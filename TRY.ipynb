{
 "cells": [
  {
   "cell_type": "markdown",
   "id": "ada9c55c",
   "metadata": {},
   "source": [
    "# QITE TRY"
   ]
  },
  {
   "cell_type": "code",
   "execution_count": 44,
   "id": "fe83bae0",
   "metadata": {},
   "outputs": [],
   "source": [
    "import numpy as np\n",
    "import scipy\n",
    "from scipy.optimize import minimize\n",
    "from qiskit.quantum_info import SparsePauliOp\n",
    "from qiskit.circuit import Parameter"
   ]
  },
  {
   "cell_type": "code",
   "execution_count": null,
   "id": "bd1b0e16",
   "metadata": {},
   "outputs": [],
   "source": [
    "def cost_func(coeffs_list, pauli_list, H, tau, initial_state):\n",
    "    A = SparsePauliOp(pauli_list, coeffs_list).to_matrix()\n",
    "    U = scipy.linalg.expm(-1j*A*tau)\n",
    "    C = U - np.eye(2**N) + 1j*A\n",
    "\n",
    "    phi = np.matmul(C, initial_state)\n",
    "    \n",
    "    return np.linalg.norm(phi)"
   ]
  },
  {
   "cell_type": "code",
   "execution_count": null,
   "id": "cecc145b",
   "metadata": {},
   "outputs": [],
   "source": [
    "# SciPy minimizer routine\n",
    "N = 2\n",
    "pauli_list = get_pauli_list(N)\n",
    "coeffs_list = np.ones(4**N)\n",
    "tau = 0.01\n",
    "initial_state = np.array([0.5, 0.5, 0.5, 0.5])\n",
    "H = SparsePauliOp([\"II\"], coeffs=[1.0]).to_matrix()\n",
    "\n",
    "result = minimize(cost_func, coeffs_list, args=(pauli_list, H, tau, initial_state), method=\"SLSQP\")\n",
    "\n",
    "result"
   ]
  },
  {
   "cell_type": "code",
   "execution_count": null,
   "id": "6f726cfd",
   "metadata": {},
   "outputs": [],
   "source": [
    "tau = 0.0001\n",
    "initial_state_0 = np.array([1, 1, 1, 1], dtype=complex)\n",
    "initial_state = initial_state_0/np.linalg.norm(initial_state_0)\n",
    "H = SparsePauliOp([\"II\"], coeffs=[1.0]).to_matrix()\n",
    "c = 1. - 2*tau*np.matmul(np.conjugate(initial_state).T, np.matmul(H, initial_state))\n",
    "S = np.zeros([len(pauli_list), len(pauli_list)], dtype=complex)\n",
    "b = np.zeros(len(pauli_list), dtype=complex)\n",
    "\n",
    "for i in range(len(pauli_list)):\n",
    "    sx_pauli = SparsePauliOp(pauli_list[i], 1.0).to_matrix()\n",
    "    sx = np.matmul(np.conjugate(initial_state).T, np.conjugate(sx_pauli).T)\n",
    "    dx_b = np.matmul(H, initial_state)\n",
    "    b[i] = (-1.j/np.sqrt(c))*np.matmul(sx, dx_b)\n",
    "    for j in range(len(pauli_list)):\n",
    "        dx_pauli = SparsePauliOp(pauli_list[j], 1.0).to_matrix()\n",
    "        dx_S = np.matmul(dx_pauli, initial_state)\n",
    "        \n",
    "        S[i,j] = np.matmul(sx, dx_S)"
   ]
  },
  {
   "cell_type": "code",
   "execution_count": null,
   "id": "8e33c6bb",
   "metadata": {},
   "outputs": [],
   "source": [
    "def get_pauli_list(N):\n",
    "    basis = [\"I\", \"X\", \"Y\", \"Z\"]\n",
    "    pauli_list = []\n",
    "    for i in range(len(basis)):\n",
    "        for j in range(len(basis)):\n",
    "            pauli_list.append(basis[i]+basis[j])\n",
    "            \n",
    "    return pauli_list\n",
    "\n",
    "\n",
    "\n",
    "def get_coeffs_list_algebra(H, initial_state, tau=0.001, N = 2):\n",
    "    pauli_list = get_pauli_list(N)\n",
    "    c = 1. - 2*tau*np.matmul(np.conjugate(initial_state).T, np.matmul(H, initial_state))\n",
    "    S = np.zeros([len(pauli_list), len(pauli_list)], dtype=complex)\n",
    "    b = np.zeros(len(pauli_list), dtype=complex)\n",
    "    \n",
    "    for i in range(len(pauli_list)):\n",
    "        sx_pauli = SparsePauliOp(pauli_list[i], 1.0).to_matrix()\n",
    "        sx = np.matmul(np.conjugate(initial_state).T, np.conjugate(sx_pauli).T)\n",
    "        dx_b = np.matmul(H, initial_state)\n",
    "        b[i] = (-1.j/np.sqrt(c))*np.matmul(sx, dx_b)\n",
    "        for j in range(len(pauli_list)):\n",
    "            dx_pauli = SparsePauliOp(pauli_list[j], 1.0).to_matrix()\n",
    "            dx_S = np.matmul(dx_pauli, initial_state)\n",
    "\n",
    "            S[i,j] = np.matmul(sx, dx_S)\n",
    "            \n",
    "    #print(S)\n",
    "    #print(b)\n",
    "    return np.matmul(np.linalg.pinv(S), b)\n",
    "\n",
    "\n",
    "\n",
    "def qite_step_algebra(H, initial_state, tau=0.001, N=2):\n",
    "    pauli_list = get_pauli_list(N)\n",
    "    coeffs_list = get_coeffs_list_algebra(H, initial_state, tau, N)\n",
    "    #print(SparsePauliOp(pauli_list, coeffs_list))\n",
    "    A = SparsePauliOp(pauli_list, coeffs_list).to_matrix()\n",
    "    \n",
    "    final_state = np.matmul(scipy.linalg.expm(-1j*A*tau), initial_state)\n",
    "    return final_state"
   ]
  },
  {
   "cell_type": "code",
   "execution_count": null,
   "id": "4282829d",
   "metadata": {},
   "outputs": [],
   "source": [
    "tau = 0.001\n",
    "initial_state_0 = np.array([1., 0., 0., 0.])\n",
    "initial_state = initial_state_0/np.linalg.norm(initial_state_0)\n",
    "H = SparsePauliOp([\"XI\"], coeffs=[1.0]).to_matrix()\n",
    "\n",
    "\n",
    "# TEST FOR SINGLE QITE STEP\n",
    "\n",
    "phi_A = qite_step_algebra(H, initial_state, tau)\n",
    "phi_H = np.matmul(scipy.linalg.expm(-H*tau), initial_state)/np.sqrt(np.matmul(np.conjugate(initial_state).T, np.matmul(scipy.linalg.expm(-2*H*tau), initial_state)))\n",
    "\n",
    "print(\"phi_A = \", phi_A)\n",
    "print(\"||phi_A|| = \", np.linalg.norm(phi_A))\n",
    "print(\"\")\n",
    "print(\"phi_H = \", phi_H)\n",
    "print(\"\")\n",
    "print(\"Overlap =\", np.matmul(np.conjugate(phi_A).T,phi_H))"
   ]
  },
  {
   "cell_type": "code",
   "execution_count": null,
   "id": "cc8abe2b",
   "metadata": {},
   "outputs": [],
   "source": [
    "tau = 0.01\n",
    "beta = 1.5\n",
    "n = beta/tau\n",
    "initial_state_0 = np.array([1., 0., 0., 0.], dtype=complex)\n",
    "initial_state = initial_state_0/np.linalg.norm(initial_state_0)\n",
    "H = SparsePauliOp([\"XI\"], coeffs=[1.0]).to_matrix()\n",
    "\n",
    "state_list = [initial_state]\n",
    "for i in range(int(n)-1):\n",
    "    state_list.append(qite_step_algebra(H, state_list[-1], tau))"
   ]
  },
  {
   "cell_type": "code",
   "execution_count": null,
   "id": "15ba6272",
   "metadata": {},
   "outputs": [],
   "source": [
    "#TEST FOR QITE PRINCIPLE\n",
    "c = np.absolute(np.matmul(np.conjugate(initial_state).T, np.matmul(scipy.linalg.expm(-2*H*beta), initial_state)))\n",
    "print(c)\n",
    "phi_H = np.matmul(scipy.linalg.expm(-H*beta), initial_state)/np.sqrt(c)\n",
    "print(np.linalg.norm(phi_H))\n",
    "print(np.linalg.norm(state_list[-1]))\n",
    "\n",
    "print(\"phi_A = \", state_list[-1]/np.linalg.norm(state_list[-1]))\n",
    "print(\"\")\n",
    "print(\"phi_H = \", phi_H)\n",
    "print(\"\")\n",
    "print(\"Overlap_A =\", np.absolute(np.matmul(np.conjugate(state_list[-1]).T,exact_ground_state)))\n",
    "print(\"\")\n",
    "print(\"Overlap_B =\", np.absolute(np.matmul(np.conjugate(phi_H).T, exact_ground_state)))"
   ]
  },
  {
   "cell_type": "code",
   "execution_count": null,
   "id": "6be1a84d",
   "metadata": {},
   "outputs": [],
   "source": [
    "import matplotlib.pyplot as plt\n",
    "\n",
    "exact_ground_state = np.array([1./np.sqrt(2), 0, 0, -1./np.sqrt(2)])\n",
    "x = range(int(n))\n",
    "y1 = []\n",
    "y2 = []\n",
    "for i in range(len(state_list)):\n",
    "    y1.append(np.absolute(np.matmul(np.conjugate(state_list[i]).T, exact_ground_state)))\n",
    "    y2.append(np.absolute(np.matmul(np.conjugate(phi_H).T, exact_ground_state)))\n",
    "    \n",
    "plt.plot(x, y1)\n",
    "plt.plot(x, y2)"
   ]
  },
  {
   "cell_type": "code",
   "execution_count": null,
   "id": "50aaee7f",
   "metadata": {},
   "outputs": [],
   "source": [
    "### QUANTUM CIRCUIT IMPLEMENTATION"
   ]
  },
  {
   "cell_type": "code",
   "execution_count": null,
   "id": "3ab1c325",
   "metadata": {},
   "outputs": [],
   "source": [
    "import numpy as np\n",
    "import scipy\n",
    "from scipy.linalg import expm\n",
    "from qiskit.circuit import QuantumCircuit, Parameter\n",
    "from qiskit.quantum_info import SparsePauliOp, Statevector, Operator\n",
    "from qiskit.primitives import Sampler, Estimator\n",
    "\n",
    "\n",
    "def exp_value(circuit, observable, estimator=Estimator()):\n",
    "    job = estimator.run(circuit, observable)\n",
    "    \n",
    "    return job.result().values[0]\n",
    "\n",
    "\n",
    "\n",
    "def get_pauli_list(N=2):\n",
    "    basis = [\"I\", \"X\", \"Y\", \"Z\"]\n",
    "    pauli_list = []\n",
    "    for i in range(len(basis)):\n",
    "        for j in range(len(basis)):\n",
    "            pauli_list.append(basis[i]+basis[j])\n",
    "            \n",
    "    return pauli_list\n",
    "\n",
    "\n",
    "\n",
    "def get_coeffs_list(H, initial_circuit, tau=0.001, N = 2):\n",
    "    pauli_list = get_pauli_list(N)\n",
    "    c = 1. - 2.*tau*exp_value(initial_circuit, H)\n",
    "    #print(c)\n",
    "    S = np.ones([len(pauli_list), len(pauli_list)], dtype=complex)\n",
    "    b = np.zeros(len(pauli_list), dtype=complex)\n",
    "    \n",
    "    for k in range(len(pauli_list)):\n",
    "        b[k] = (0-1j/np.sqrt(c))*exp_value(initial_circuit, (SparsePauliOp([pauli_list[k]]).dot(H)))\n",
    "        for l in range(len(pauli_list)):\n",
    "            #S[k,l] = np.around(exp_value(initial_circuit, (SparsePauliOp([pauli_list[k]]).dot(SparsePauliOp([pauli_list[l]])))))\n",
    "            S[k,l] = exp_value(initial_circuit, (SparsePauliOp([pauli_list[k]]).dot(SparsePauliOp([pauli_list[l]]))))\n",
    "\n",
    "    #print(S)\n",
    "    #print(b)\n",
    "    return np.linalg.solve(S+S.T, -b)\n",
    "\n",
    "\n",
    "\n",
    "def qite_step(H, circuit, tau=0.001, N=2):\n",
    "    pauli_list = get_pauli_list(N)\n",
    "    coeffs_list = get_coeffs_list(H, circuit, tau, N)\n",
    "    A = SparsePauliOp(pauli_list, coeffs_list)\n",
    "    print(A)\n",
    "    print(A.adjoint().to_matrix())\n",
    "    \n",
    "    U = Operator(expm(0.-1.j*A.to_matrix()*tau))\n",
    "    print(U.is_unitary())\n",
    "    \n",
    "    #circuit.append(U, [0,1])\n",
    "    return U"
   ]
  },
  {
   "cell_type": "markdown",
   "id": "a416ac6a",
   "metadata": {},
   "source": [
    "# VarQITE Implementation on LMG"
   ]
  },
  {
   "cell_type": "code",
   "execution_count": 1,
   "id": "851b22f8",
   "metadata": {},
   "outputs": [],
   "source": [
    "from qiskit.circuit import QuantumCircuit, Parameter\n",
    "\n",
    "def twolocal(n, gates=[\"ry\"], entanglement=\"linear\", reps=1, par_name=\"x\", par = None):\n",
    "    \n",
    "    \n",
    "    def lin_entanglement(qc):\n",
    "        n = qc.num_qubits\n",
    "        for qubit in range(0, n-1):\n",
    "            qc.cx(qubit, qubit+1)\n",
    "            \n",
    "    def single_rep(qc, gates, par):\n",
    "        n = qc.num_qubits\n",
    "        for i in range(0, n):\n",
    "            for gate in gates:\n",
    "                if gate == \"ry\":\n",
    "                    qc.ry(par[i], i)\n",
    "\n",
    "    #if par == None:\n",
    "    #    par = [Parameter(\"{}_{}\".format(par_name,i)) for i in range(0,n*len(gates)*(reps+1))]\n",
    "    qc = QuantumCircuit(n)\n",
    "\n",
    "    \n",
    "    single_rep(qc, gates, par[:(n*len(gates))])\n",
    "    \n",
    "    for rep in range(1, reps+1):\n",
    "        if entanglement == \"linear\":\n",
    "            lin_entanglement(qc)\n",
    "        single_rep(qc, gates, par[n*len(gates)*(rep):n*len(gates)*(rep+1)])\n",
    "\n",
    "    return qc"
   ]
  },
  {
   "cell_type": "code",
   "execution_count": 3,
   "id": "89ab47a7",
   "metadata": {},
   "outputs": [],
   "source": [
    "import numpy as np\n",
    "from qiskit.algorithms.time_evolvers import TimeEvolutionProblem, VarQITE\n",
    "from qiskit.quantum_info import SparsePauliOp, Statevector, Operator\n",
    "from qiskit.primitives import Estimator\n",
    "from qiskit.circuit.library import TwoLocal\n",
    "\n",
    "\n",
    "N = 2\n",
    "B = 0.7\n",
    "gy = 0.8\n",
    "ansatz = TwoLocal(N, \"ry\", \"cx\", entanglement=\"linear\", reps=2)\n",
    "phi_list = [Parameter('phi_{}'.format(i)) for i in range(ansatz.num_parameters)]\n",
    "for i in range(len(phi_list)):\n",
    "    phi_list[i] = 2*np.pi*np.random.uniform()\n",
    "#phi_list[2] = np.pi/2-0.7\n",
    "#phi_list[3] = np.pi+0.9\n",
    "H = SparsePauliOp([\"XX\", \"YY\", \"IZ\", \"ZI\"], [-1./N, -gy/N, -B, -B])\n",
    "beta = 5\n",
    "\n",
    "problem = TimeEvolutionProblem(H, beta)\n",
    "\n",
    "\n",
    "qite = VarQITE(ansatz, phi_list)\n",
    "result = qite.evolve(problem)"
   ]
  },
  {
   "cell_type": "code",
   "execution_count": 7,
   "id": "b2d2359a",
   "metadata": {},
   "outputs": [
    {
     "name": "stdout",
     "output_type": "stream",
     "text": [
      "{   'aux_ops_evaluated': None,\n",
      "    'evolved_state': <qiskit.circuit.library.n_local.two_local.TwoLocal object at 0x000001E3F3338050>,\n",
      "    'observables': [],\n",
      "    'parameter_values': array([[2.27209671, 3.19175246, 1.96312537, 5.17560164, 3.33199841,\n",
      "        0.96082062],\n",
      "       [2.27258292, 3.18642903, 1.96213346, 5.17829625, 3.33641337,\n",
      "        0.9632598 ],\n",
      "       [2.27307317, 3.18121193, 1.96112518, 5.18091032, 3.34076265,\n",
      "        0.96566156],\n",
      "       ...,\n",
      "       [2.7996454 , 3.11887593, 1.26887238, 4.77321789, 4.1062994 ,\n",
      "        1.60755293],\n",
      "       [2.80032364, 3.11896746, 1.26811189, 4.77287142, 4.10703981,\n",
      "        1.60824437],\n",
      "       [2.80099918, 3.11905827, 1.26735481, 4.77252728, 4.10777698,\n",
      "        1.60893279]]),\n",
      "    'times': array([0.  , 0.01, 0.02, 0.03, 0.04, 0.05, 0.06, 0.07, 0.08, 0.09, 0.1 ,\n",
      "       0.11, 0.12, 0.13, 0.14, 0.15, 0.16, 0.17, 0.18, 0.19, 0.2 , 0.21,\n",
      "       0.22, 0.23, 0.24, 0.25, 0.26, 0.27, 0.28, 0.29, 0.3 , 0.31, 0.32,\n",
      "       0.33, 0.34, 0.35, 0.36, 0.37, 0.38, 0.39, 0.4 , 0.41, 0.42, 0.43,\n",
      "       0.44, 0.45, 0.46, 0.47, 0.48, 0.49, 0.5 , 0.51, 0.52, 0.53, 0.54,\n",
      "       0.55, 0.56, 0.57, 0.58, 0.59, 0.6 , 0.61, 0.62, 0.63, 0.64, 0.65,\n",
      "       0.66, 0.67, 0.68, 0.69, 0.7 , 0.71, 0.72, 0.73, 0.74, 0.75, 0.76,\n",
      "       0.77, 0.78, 0.79, 0.8 , 0.81, 0.82, 0.83, 0.84, 0.85, 0.86, 0.87,\n",
      "       0.88, 0.89, 0.9 , 0.91, 0.92, 0.93, 0.94, 0.95, 0.96, 0.97, 0.98,\n",
      "       0.99, 1.  , 1.01, 1.02, 1.03, 1.04, 1.05, 1.06, 1.07, 1.08, 1.09,\n",
      "       1.1 , 1.11, 1.12, 1.13, 1.14, 1.15, 1.16, 1.17, 1.18, 1.19, 1.2 ,\n",
      "       1.21, 1.22, 1.23, 1.24, 1.25, 1.26, 1.27, 1.28, 1.29, 1.3 , 1.31,\n",
      "       1.32, 1.33, 1.34, 1.35, 1.36, 1.37, 1.38, 1.39, 1.4 , 1.41, 1.42,\n",
      "       1.43, 1.44, 1.45, 1.46, 1.47, 1.48, 1.49, 1.5 , 1.51, 1.52, 1.53,\n",
      "       1.54, 1.55, 1.56, 1.57, 1.58, 1.59, 1.6 , 1.61, 1.62, 1.63, 1.64,\n",
      "       1.65, 1.66, 1.67, 1.68, 1.69, 1.7 , 1.71, 1.72, 1.73, 1.74, 1.75,\n",
      "       1.76, 1.77, 1.78, 1.79, 1.8 , 1.81, 1.82, 1.83, 1.84, 1.85, 1.86,\n",
      "       1.87, 1.88, 1.89, 1.9 , 1.91, 1.92, 1.93, 1.94, 1.95, 1.96, 1.97,\n",
      "       1.98, 1.99, 2.  , 2.01, 2.02, 2.03, 2.04, 2.05, 2.06, 2.07, 2.08,\n",
      "       2.09, 2.1 , 2.11, 2.12, 2.13, 2.14, 2.15, 2.16, 2.17, 2.18, 2.19,\n",
      "       2.2 , 2.21, 2.22, 2.23, 2.24, 2.25, 2.26, 2.27, 2.28, 2.29, 2.3 ,\n",
      "       2.31, 2.32, 2.33, 2.34, 2.35, 2.36, 2.37, 2.38, 2.39, 2.4 , 2.41,\n",
      "       2.42, 2.43, 2.44, 2.45, 2.46, 2.47, 2.48, 2.49, 2.5 , 2.51, 2.52,\n",
      "       2.53, 2.54, 2.55, 2.56, 2.57, 2.58, 2.59, 2.6 , 2.61, 2.62, 2.63,\n",
      "       2.64, 2.65, 2.66, 2.67, 2.68, 2.69, 2.7 , 2.71, 2.72, 2.73, 2.74,\n",
      "       2.75, 2.76, 2.77, 2.78, 2.79, 2.8 , 2.81, 2.82, 2.83, 2.84, 2.85,\n",
      "       2.86, 2.87, 2.88, 2.89, 2.9 , 2.91, 2.92, 2.93, 2.94, 2.95, 2.96,\n",
      "       2.97, 2.98, 2.99, 3.  , 3.01, 3.02, 3.03, 3.04, 3.05, 3.06, 3.07,\n",
      "       3.08, 3.09, 3.1 , 3.11, 3.12, 3.13, 3.14, 3.15, 3.16, 3.17, 3.18,\n",
      "       3.19, 3.2 , 3.21, 3.22, 3.23, 3.24, 3.25, 3.26, 3.27, 3.28, 3.29,\n",
      "       3.3 , 3.31, 3.32, 3.33, 3.34, 3.35, 3.36, 3.37, 3.38, 3.39, 3.4 ,\n",
      "       3.41, 3.42, 3.43, 3.44, 3.45, 3.46, 3.47, 3.48, 3.49, 3.5 , 3.51,\n",
      "       3.52, 3.53, 3.54, 3.55, 3.56, 3.57, 3.58, 3.59, 3.6 , 3.61, 3.62,\n",
      "       3.63, 3.64, 3.65, 3.66, 3.67, 3.68, 3.69, 3.7 , 3.71, 3.72, 3.73,\n",
      "       3.74, 3.75, 3.76, 3.77, 3.78, 3.79, 3.8 , 3.81, 3.82, 3.83, 3.84,\n",
      "       3.85, 3.86, 3.87, 3.88, 3.89, 3.9 , 3.91, 3.92, 3.93, 3.94, 3.95,\n",
      "       3.96, 3.97, 3.98, 3.99, 4.  , 4.01, 4.02, 4.03, 4.04, 4.05, 4.06,\n",
      "       4.07, 4.08, 4.09, 4.1 , 4.11, 4.12, 4.13, 4.14, 4.15, 4.16, 4.17,\n",
      "       4.18, 4.19, 4.2 , 4.21, 4.22, 4.23, 4.24, 4.25, 4.26, 4.27, 4.28,\n",
      "       4.29, 4.3 , 4.31, 4.32, 4.33, 4.34, 4.35, 4.36, 4.37, 4.38, 4.39,\n",
      "       4.4 , 4.41, 4.42, 4.43, 4.44, 4.45, 4.46, 4.47, 4.48, 4.49, 4.5 ,\n",
      "       4.51, 4.52, 4.53, 4.54, 4.55, 4.56, 4.57, 4.58, 4.59, 4.6 , 4.61,\n",
      "       4.62, 4.63, 4.64, 4.65, 4.66, 4.67, 4.68, 4.69, 4.7 , 4.71, 4.72,\n",
      "       4.73, 4.74, 4.75, 4.76, 4.77, 4.78, 4.79, 4.8 , 4.81, 4.82, 4.83,\n",
      "       4.84, 4.85, 4.86, 4.87, 4.88, 4.89, 4.9 , 4.91, 4.92, 4.93, 4.94,\n",
      "       4.95, 4.96, 4.97, 4.98, 4.99, 5.  , 5.01])}\n"
     ]
    }
   ],
   "source": [
    "print(result)"
   ]
  },
  {
   "cell_type": "code",
   "execution_count": 11,
   "id": "5126691c",
   "metadata": {},
   "outputs": [
    {
     "name": "stdout",
     "output_type": "stream",
     "text": [
      "Ansatz used\n"
     ]
    },
    {
     "data": {
      "image/png": "[encoded data removed]",
      "text/plain": [
       "<Figure size 387.452x144.48 with 1 Axes>"
      ]
     },
     "metadata": {},
     "output_type": "display_data"
    },
    {
     "name": "stdout",
     "output_type": "stream",
     "text": [
      "Initial circuit\n"
     ]
    },
    {
     "data": {
      "image/png": "[encoded data removed]",
      "text/plain": [
       "<Figure size 387.452x144.48 with 1 Axes>"
      ]
     },
     "metadata": {},
     "output_type": "display_data"
    },
    {
     "name": "stdout",
     "output_type": "stream",
     "text": [
      "Final circuit\n"
     ]
    },
    {
     "data": {
      "image/png": "[encoded data removed]",
      "text/plain": [
       "<Figure size 387.452x144.48 with 1 Axes>"
      ]
     },
     "metadata": {},
     "output_type": "display_data"
    }
   ],
   "source": [
    "print(\"Ansatz used\")\n",
    "display(ansatz.decompose().draw(\"mpl\"))\n",
    "print(\"Initial circuit\")\n",
    "display(twolocal(n=N, gates=[\"ry\"], reps=2, par = result.parameter_values[0]).draw(\"mpl\"))\n",
    "print(\"Final circuit\")\n",
    "display(result.evolved_state.decompose().draw(\"mpl\"))"
   ]
  },
  {
   "cell_type": "code",
   "execution_count": 12,
   "id": "f0adb478",
   "metadata": {},
   "outputs": [
    {
     "name": "stdout",
     "output_type": "stream",
     "text": [
      "Statevector([-0.32213049+0.j,  0.71167802+0.j,  0.56989172+0.j,\n",
      "             -0.25489169+0.j],\n",
      "            dims=(2, 2))\n",
      "Statevector([-0.97613852+0.j,  0.15156233+0.j,  0.15155582+0.j,\n",
      "             -0.03483225+0.j],\n",
      "            dims=(2, 2))\n"
     ]
    }
   ],
   "source": [
    "initial_state = Statevector([1.,0.,0.,0.]).evolve(twolocal(n=N, gates = [\"ry\"], reps=2, par = result.parameter_values[0]))\n",
    "final_state = Statevector([1.,0.,0.,0.]).evolve(result.evolved_state)\n",
    "\n",
    "print(initial_state)\n",
    "print(final_state)"
   ]
  },
  {
   "cell_type": "code",
   "execution_count": 13,
   "id": "125457dc",
   "metadata": {},
   "outputs": [],
   "source": [
    "from qiskit.quantum_info import Operator\n",
    "from qiskit.opflow import X, Y, Z, I\n",
    "import time\n",
    "from timeit import default_timer as timer\n",
    "import matplotlib.pyplot as plt\n",
    "import numpy as np\n",
    "\n",
    "\n",
    "def ClassicalLMGH(Natoms, gy, B):  # Spin_Magnet_Hamilton_class\n",
    "    \"\"\"\n",
    "    Returns the hamiltonian operator of LMG model given its parameters.\n",
    "\n",
    "        Parameters:\n",
    "                Natoms(int): number of qubits considered\n",
    "                B(float): Magnetic field intensity\n",
    "                gy(float): parameter of hamiltonian\n",
    "\n",
    "        Returns:\n",
    "                Hamiltonian(operator): Operator of the hamiltonian\n",
    "    \"\"\"\n",
    "\n",
    "    # initialize 0-dimensional Operators\n",
    "    field = Operator([0])\n",
    "    spin = Operator([0])\n",
    "\n",
    "    # cycle over all qubits\n",
    "    for i in range(Natoms):\n",
    "\n",
    "        # Adds the spin field interaction for each atom\n",
    "        field = field ^ I\n",
    "        field -= B * ((I ^ i) ^ Z)\n",
    "\n",
    "        # Adds a qubit to the spin part\n",
    "        spin = spin ^ I\n",
    "\n",
    "        # implementation for the i-th qubit\n",
    "        # of spin-spin interactions with j-th qubit, with j<i\n",
    "        for j in range(i):\n",
    "            spin -= 1 / Natoms * ((I ^ j) ^ X ^ (I ^ (i - j - 1)) ^ X)\n",
    "            spin -= 1 / Natoms * gy * ((I ^ j) ^ Y ^ (I ^ (i - j - 1)) ^ Y)\n",
    "    return spin + field\n",
    "\n",
    "\n",
    "\n",
    "def ClassicalDiagonalizer(H):  # class_par_H_diagonalizer\n",
    "    \"\"\"\n",
    "    Diagonalizer of parametrized H.\n",
    "\n",
    "        Parameters:\n",
    "                H(list of matrices): The matrices to be diagonalizedt, the matrices must be Hermitian\n",
    "        Returns:\n",
    "                EigenValues: list containing Eigenvalues\n",
    "                EigenStates: list containing Eigenstates\n",
    "                MinEigenValues: list containing \"Ground state\" value\n",
    "                MinEigenStates:    list cointaining \"Ground state\"\n",
    "                ExecTime: list containing the time it took to diagonalize the matrix\n",
    "    \"\"\"\n",
    "    EigenValues = [[] * 2 ** (H[0].num_qubits) for _ in range(len(H))]\n",
    "    EigenStates = [[] * 2 ** (H[0].num_qubits) for _ in range(len(H))]\n",
    "    MinEigenState = []\n",
    "    MinEigenValue = []\n",
    "    ExecTime = []\n",
    "    for i in range(len(H)):\n",
    "        start = time.time()\n",
    "        # Classical diagonalizer for Hermitian matrix. Eig vals are sorted automatically\n",
    "        w, v = np.linalg.eigh(H[i])\n",
    "        for j in range(len(w)):\n",
    "            EigenValues[i].append(w[j])\n",
    "            EigenStates[i].append(v[:, j])\n",
    "        MinEigenValue.append(w[0])\n",
    "        MinEigenState.append(v[:, 0])\n",
    "        ExecTime.append(time.time() - start)\n",
    "    return EigenValues, EigenStates, MinEigenValue, MinEigenState, ExecTime"
   ]
  },
  {
   "cell_type": "code",
   "execution_count": 17,
   "id": "14d3f466",
   "metadata": {},
   "outputs": [
    {
     "name": "stdout",
     "output_type": "stream",
     "text": [
      "Numerical obtained eigenstate =  [array([-0.99936447+0.j,  0.        +0.j,  0.        +0.j, -0.03564618+0.j])]\n",
      "\n",
      "VarQITE obtained eigenstate =  Statevector([-0.97613852+0.j,  0.15156233+0.j,  0.15155582+0.j,\n",
      "             -0.03483225+0.j],\n",
      "            dims=(2, 2))\n",
      "\n",
      "Numerical obtained eigenvalue = [-1.40356688476182]\n",
      "\n",
      "VarQITE obtained eigenvalue =  (-1.380432865914496+0j)\n"
     ]
    }
   ],
   "source": [
    "H_exact = [ClassicalLMGH(N, gy, B)]\n",
    "EigenValues, EigenStates, MinEigenValue, MinEigenState, ExecTime = ClassicalDiagonalizer(H_exact)\n",
    "print(\"Numerical obtained eigenstate = \", MinEigenState)\n",
    "print(\"\")\n",
    "print(\"VarQITE obtained eigenstate = \", final_state)\n",
    "print(\"\")\n",
    "print(\"Numerical obtained eigenvalue =\", MinEigenValue)\n",
    "print(\"\")\n",
    "print(\"VarQITE obtained eigenvalue = \", final_state.expectation_value(H))"
   ]
  },
  {
   "cell_type": "code",
   "execution_count": 15,
   "id": "e1c78cc0",
   "metadata": {},
   "outputs": [
    {
     "data": {
      "image/png": "[encoded data removed]",
      "text/plain": [
       "<Figure size 396x252 with 1 Axes>"
      ]
     },
     "metadata": {
      "needs_background": "light"
     },
     "output_type": "display_data"
    }
   ],
   "source": [
    "initial_state = Statevector([1.,0.,0.,0.]).evolve(twolocal(n=N, gates = [\"ry\"], reps=2, par = result.parameter_values[0]))\n",
    "exact_ground_state = Statevector(MinEigenState[0])\n",
    "x = result.times\n",
    "y1 = []\n",
    "y2 = []\n",
    "\n",
    "for i in range(len(x)):\n",
    "    #qc = QuantumCircuit(2)\n",
    "    #qc.append(twolocal(n=2, gates = [\"ry\"], reps=2, par = result.parameter_values[i]), [0,1])\n",
    "    state = Statevector([1.,0.,0.,0.]).evolve(twolocal(n=N, reps=2, par = result.parameter_values[i]))\n",
    "    y1.append(np.absolute(state.inner(exact_ground_state)))\n",
    "    y2.append(1.)\n",
    "\n",
    "plt.rcParams[\"figure.figsize\"] = [5.50, 3.50]\n",
    "plt.rcParams[\"figure.autolayout\"] = True\n",
    "\n",
    "    \n",
    "gylabel = \"$\\gamma$ = {gy:.1f}, B = {B:.1f}\"\n",
    "\n",
    "plt.title(\"Overlap QITE and numerical Ground State\")\n",
    "\n",
    "\n",
    "plt.plot(x, y1, color=\"black\", label=gylabel.format(gy=gy,B=B))\n",
    "plt.plot(x, y2, color=\"blue\", ls=\"dotted\")\n",
    "\n",
    "plt.ylabel('Overlap')\n",
    "plt.xlabel('Imaginary Time')\n",
    "\n",
    "\n",
    "# Line of codes to avoid repeating labels in legend\n",
    "handles, labels = plt.gca().get_legend_handles_labels()\n",
    "by_label = dict(zip(labels, handles))\n",
    "plt.legend(by_label.values(), by_label.keys())\n",
    "\n",
    "plt.grid()\n",
    "plt.show()"
   ]
  },
  {
   "cell_type": "markdown",
   "id": "982b6cbc",
   "metadata": {},
   "source": [
    "# QMETTS Algorithm"
   ]
  },
  {
   "cell_type": "code",
   "execution_count": 29,
   "id": "e28d4f48",
   "metadata": {},
   "outputs": [
    {
     "data": {
      "text/plain": [
       "[array([-0.99936447+0.j,  0.        +0.j,  0.        +0.j, -0.03564618+0.j]),\n",
       " array([-0.        +0.j, -0.70710678+0.j, -0.70710678+0.j,  0.        +0.j]),\n",
       " array([ 0.        +0.j,  0.70710678+0.j, -0.70710678+0.j,  0.        +0.j]),\n",
       " array([-0.03564618+0.j,  0.        +0.j,  0.        +0.j,  0.99936447+0.j])]"
      ]
     },
     "execution_count": 29,
     "metadata": {},
     "output_type": "execute_result"
    }
   ],
   "source": [
    "EigenStates[0]"
   ]
  },
  {
   "cell_type": "code",
   "execution_count": 100,
   "id": "2bb7a3c9",
   "metadata": {},
   "outputs": [
    {
     "data": {
      "text/plain": [
       "(-0.00138999941203366+0j)"
      ]
     },
     "execution_count": 100,
     "metadata": {},
     "output_type": "execute_result"
    }
   ],
   "source": [
    "N =2\n",
    "beta = 0.001\n",
    "\n",
    "Z = 0\n",
    "rho = np.zeros([2**N, 2**N], dtype=complex)\n",
    "for i in range(len(EigenValues[0])):\n",
    "    Z += np.exp(- beta*EigenValues[0][i])\n",
    "    rho += np.exp(- beta*EigenValues[0][i])*np.matmul(np.atleast_2d(EigenStates[0][i]).T,np.atleast_2d(EigenStates[0][i]))\n",
    "rho = rho/Z\n",
    "rho\n",
    "exact_average = np.trace(np.matmul(H_exact[0].to_matrix(), rho))\n",
    "exact_average"
   ]
  },
  {
   "cell_type": "code",
   "execution_count": 115,
   "id": "7974a769",
   "metadata": {
    "scrolled": true
   },
   "outputs": [],
   "source": [
    "from qiskit.primitives import Estimator\n",
    "\n",
    "\n",
    "def exp_value(circuit, observable, estimator=Estimator()):\n",
    "    job = estimator.run(circuit, observable)\n",
    "    \n",
    "    return job.result().values[0]\n",
    "\n",
    "def QITE(H, parameter_list, ansatz, tau):\n",
    "    \n",
    "    problem = TimeEvolutionProblem(H, beta)\n",
    "    qite = VarQITE(ansatz, parameter_list)\n",
    "    result = qite.evolve(problem)\n",
    "    \n",
    "    return result\n",
    "\n",
    "def state_to_par(label = \"++\", num_params = 6):\n",
    "    \n",
    "    par_list = np.zeros(num_params)\n",
    "    if label == \"++\":\n",
    "        par_list[-2] = np.pi\n",
    "        par_list[-1] = np.pi\n",
    "    elif label == \"+-\":\n",
    "        par_list[-2] = np.pi\n",
    "        par_list[-1] = 3*np.pi    \n",
    "    elif label == \"-+\":\n",
    "        par_list[-2] = 3*np.pi\n",
    "        par_list[-1] = np.pi\n",
    "    elif label == \"--\":\n",
    "        par_list[-2] = 3*np.pi\n",
    "        par_list[-1] = 3*np.pi\n",
    "\n",
    "    return par_list"
   ]
  },
  {
   "cell_type": "code",
   "execution_count": 113,
   "id": "82be36f7",
   "metadata": {},
   "outputs": [
    {
     "name": "stdout",
     "output_type": "stream",
     "text": [
      "final_state =  Statevector([ 0.363431  +0.j, -0.57477224+0.j,  0.65843971+0.j,\n",
      "              0.32250881+0.j],\n",
      "            dims=(2, 2))\n",
      "measure =  0.6184749998726385\n"
     ]
    }
   ],
   "source": [
    "N = 2\n",
    "B = 0.7\n",
    "gy = 0.8\n",
    "tau = beta/2.\n",
    "\n",
    "ansatz = TwoLocal(N, \"ry\", \"cx\", entanglement=\"linear\", reps=2)\n",
    "parameter_list = [Parameter('phi_{}'.format(i)) for i in range(ansatz.num_parameters)]\n",
    "for i in range(len(parameter_list)):\n",
    "    parameter_list[i] = 2*np.pi*np.random.uniform()\n",
    "    \n",
    "H = SparsePauliOp([\"XX\", \"YY\", \"IZ\", \"ZI\"], [-1./N, -gy/N, -B, -B])\n",
    "\n",
    "result = QITE(H, parameter_list, ansatz, tau)\n",
    "final_state = Statevector([1.,0.,0.,0.]).evolve(result.evolved_state)\n",
    "\n",
    "measure = exp_value(result.evolved_state, H)\n",
    "\n",
    "print(\"final_state = \", final_state)\n",
    "print(\"measure = \", measure)"
   ]
  },
  {
   "cell_type": "code",
   "execution_count": null,
   "id": "e2bd8b4e",
   "metadata": {},
   "outputs": [],
   "source": []
  },
  {
   "cell_type": "code",
   "execution_count": null,
   "id": "019e61cd",
   "metadata": {},
   "outputs": [],
   "source": []
  },
  {
   "cell_type": "code",
   "execution_count": null,
   "id": "90b5bc10",
   "metadata": {},
   "outputs": [],
   "source": []
  },
  {
   "cell_type": "code",
   "execution_count": null,
   "id": "16b8ed75",
   "metadata": {},
   "outputs": [],
   "source": []
  },
  {
   "cell_type": "code",
   "execution_count": null,
   "id": "eb9dda12",
   "metadata": {},
   "outputs": [],
   "source": []
  },
  {
   "cell_type": "code",
   "execution_count": null,
   "id": "deb95883",
   "metadata": {},
   "outputs": [],
   "source": []
  },
  {
   "cell_type": "code",
   "execution_count": null,
   "id": "8883d227",
   "metadata": {},
   "outputs": [],
   "source": [
    "from qiskit import QuantumCircuit\n",
    "\n",
    "qc = QuantumCircuit(3)\n",
    "qc.x(0)\n",
    "\n",
    "qc.draw(\"mpl\")"
   ]
  },
  {
   "cell_type": "code",
   "execution_count": null,
   "id": "26f3766e",
   "metadata": {},
   "outputs": [],
   "source": [
    "from qiskit.circuit.library import TwoLocal\n",
    "from math import pi\n",
    "\n",
    "reference_circuit = TwoLocal(5, \"rx\", \"cz\", entanglement=\"linear\", reps=3)\n",
    "\n",
    "reference_circuit.decompose().draw(\"mpl\")"
   ]
  },
  {
   "cell_type": "code",
   "execution_count": null,
   "id": "aa97a949",
   "metadata": {},
   "outputs": [],
   "source": [
    "from qiskit.circuit import QuantumCircuit, Parameter\n",
    "\n",
    "def twolocal(n, gates=[\"ry\"], entanglement=\"linear\", reps=1, par_name=\"x\", par = None):\n",
    "    \n",
    "    \n",
    "    def lin_entanglement(qc):\n",
    "        n = qc.num_qubits\n",
    "        for qubit in range(0, n-1):\n",
    "            qc.cx(qubit, qubit+1)\n",
    "            \n",
    "    def single_rep(qc, gates, par):\n",
    "        n = qc.num_qubits\n",
    "        for i in range(0, n):\n",
    "            for gate in gates:\n",
    "                if gate == \"ry\":\n",
    "                    qc.ry(par[i], i)\n",
    "\n",
    "    if par == None:\n",
    "        par = [Parameter(\"{}_{}\".format(par_name,i)) for i in range(0,n*len(gates)*(reps+1))]\n",
    "    qc = QuantumCircuit(n)\n",
    "\n",
    "    \n",
    "    single_rep(qc, gates, par[:(n*len(gates))])\n",
    "    qc.barrier()\n",
    "    \n",
    "    for rep in range(1, reps+1):\n",
    "        if entanglement == \"linear\":\n",
    "            lin_entanglement(qc)\n",
    "        qc.barrier()\n",
    "        single_rep(qc, gates, par[n*len(gates)*(rep):n*len(gates)*(rep+1)])\n",
    "        qc.barrier()\n",
    "\n",
    "    return qc"
   ]
  },
  {
   "cell_type": "code",
   "execution_count": null,
   "id": "44d8f424",
   "metadata": {},
   "outputs": [],
   "source": [
    "qc = QuantumCircuit(3, 2)\n",
    "ansatz = twolocal(3)\n",
    "circuit = qc.compose(ansatz)\n",
    "\n",
    "circuit.draw(\"mpl\")"
   ]
  },
  {
   "cell_type": "code",
   "execution_count": null,
   "id": "281dcf0f",
   "metadata": {},
   "outputs": [],
   "source": [
    "from qiskit.primitives import Sampler, Estimator\n",
    "\n",
    "sampler = Sampler()\n",
    "estimator = Estimator()\n",
    "\n",
    "\n",
    "\n",
    "from qiskit.circuit.random import random_circuit\n",
    "\n",
    "circuits = (\n",
    "    random_circuit(2, 2, seed=0, measure=True).decompose(reps=1),\n",
    "    random_circuit(2, 2, seed=1, measure=True).decompose(reps=1),\n",
    ")\n",
    "\n",
    "job = sampler.run(circuits)\n",
    "result = job.result()\n",
    "\n",
    "[display(cir.draw(\"mpl\")) for cir in circuits]\n",
    "print(f\">>> Quasi-probability distribution: {result.quasi_dists}\")"
   ]
  },
  {
   "cell_type": "code",
   "execution_count": null,
   "id": "98b426f7",
   "metadata": {},
   "outputs": [],
   "source": [
    "from qiskit.providers.aer import AerSimulator\n",
    "\n",
    "nq = 6\n",
    "nc = 3\n",
    "qc = QuantumCircuit(nq, nc)\n",
    "\n",
    "for i in range(0, nc):\n",
    "    qc.measure(2*i, i)\n",
    "    \n",
    "qc.draw(\"mpl\")"
   ]
  },
  {
   "cell_type": "code",
   "execution_count": null,
   "id": "d979fb9e",
   "metadata": {},
   "outputs": [],
   "source": [
    "sim = AerSimulator(shots=shots)\n",
    "\n",
    "job = sim.run(qc)\n",
    "result = job.result()\n",
    "\n",
    "result.get_counts()"
   ]
  },
  {
   "cell_type": "code",
   "execution_count": null,
   "id": "2a6e83d4",
   "metadata": {},
   "outputs": [],
   "source": [
    "from qiskit_ibm_runtime import QiskitRuntimeService, Sampler, Estimator, Session, Options\n",
    "\n",
    "#service = QiskitRuntimeService(channel=\"ibm_quantum\")\n",
    "\n",
    "backend = Sampler(\"ibmq_qasm_simulator\")\n",
    "\n",
    "job = backend.run(qc)\n",
    "result = job.result()\n",
    "result"
   ]
  },
  {
   "cell_type": "code",
   "execution_count": null,
   "id": "500207ee",
   "metadata": {},
   "outputs": [],
   "source": [
    "# Bell State prep\n",
    "\n",
    "# Phi_+\n",
    "qc = QuantumCircuit(2)\n",
    "qc.h(0)\n",
    "qc.cx(0,1)\n",
    "qc.measure_all()\n",
    "print(\"Phi_+ --->\", simulate(qc))\n",
    "\n",
    "# Phi_-\n",
    "qc = QuantumCircuit(2)\n",
    "qc.x(0)\n",
    "qc.h(0)\n",
    "qc.cx(0,1)\n",
    "qc.measure_all()\n",
    "print(\"Phi_- --->\", simulate(qc))\n",
    "\n",
    "# Psi_+\n",
    "qc = QuantumCircuit(2)\n",
    "qc.x(1)\n",
    "qc.h(0)\n",
    "qc.cx(0,1)\n",
    "qc.measure_all()\n",
    "print(\"Psi_+ --->\", simulate(qc))\n",
    "\n",
    "# Psi_-\n",
    "qc = QuantumCircuit(2)\n",
    "qc.x(0)\n",
    "qc.x(1)\n",
    "qc.h(0)\n",
    "qc.cx(0,1)\n",
    "qc.measure_all()\n",
    "print(\"Psi_- --->\", simulate(qc))"
   ]
  },
  {
   "cell_type": "code",
   "execution_count": null,
   "id": "32875a1b",
   "metadata": {},
   "outputs": [],
   "source": [
    "def simulate(qc, shots=1024):\n",
    "\n",
    "    sim = AerSimulator(shots=shots)\n",
    "\n",
    "    job = sim.run(qc)\n",
    "    result = job.result()\n",
    "\n",
    "    return result.get_counts()"
   ]
  },
  {
   "cell_type": "code",
   "execution_count": null,
   "id": "470c4526",
   "metadata": {},
   "outputs": [],
   "source": [
    "def binary_sum(input_circ):\n",
    "    output_circ = input_circ\n",
    "    output_circ.barrier()\n",
    "    output_circ.ccx(1,2,0)\n",
    "    output_circ.cx(2,1)\n",
    "    output_circ.x(2)\n",
    "    output_circ.measure_all()\n",
    "    \n",
    "    return output_circ"
   ]
  },
  {
   "cell_type": "code",
   "execution_count": null,
   "id": "d6b73317",
   "metadata": {},
   "outputs": [],
   "source": [
    "input_circ = QuantumCircuit(3)\n",
    "input_circ.x(2)\n",
    "input_circ.x(1)\n",
    "input_circ.x(0)\n",
    "\n",
    "qc = binary_sum(input_circ)\n",
    "print(simulate(qc))\n",
    "\n",
    "qc.draw(\"mpl\")"
   ]
  },
  {
   "cell_type": "code",
   "execution_count": null,
   "id": "88d822c9",
   "metadata": {},
   "outputs": [],
   "source": []
  }
 ],
 "metadata": {
  "kernelspec": {
   "display_name": "Python [conda env:qiskit_env]",
   "language": "python",
   "name": "conda-env-qiskit_env-py"
  },
  "language_info": {
   "codemirror_mode": {
    "name": "ipython",
    "version": 3
   },
   "file_extension": ".py",
   "mimetype": "text/x-python",
   "name": "python",
   "nbconvert_exporter": "python",
   "pygments_lexer": "ipython3",
   "version": "3.11.4"
  }
 },
 "nbformat": 4,
 "nbformat_minor": 5
}
