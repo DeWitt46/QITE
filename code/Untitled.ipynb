{
 "cells": [
  {
   "cell_type": "code",
   "execution_count": 21,
   "id": "4034c219",
   "metadata": {},
   "outputs": [],
   "source": [
    "from qiskit.compiler import transpile\n",
    "from qiskit.circuit import QuantumCircuit, Parameter\n",
    "from qiskit.quantum_info import Operator\n",
    "import numpy as np\n",
    "\n",
    "\n",
    "\n",
    "theta = Parameter(\"x\")\n",
    "\n",
    "\n",
    "\n",
    "qc = QuantumCircuit(2)\n",
    "qc.h(0)\n",
    "qc.rx(np.pi/2, 1) \n",
    "qc.cx(0,1)\n",
    "qc.rz(2*np.pi, 1)\n",
    "qc.cx(0,1)\n",
    "qc.h(0)\n",
    "qc.rx(np.pi/2, 1)\n",
    "\n",
    "\n",
    "\n",
    "qc.draw()\n",
    "\n",
    "Rxy = Operator(qc)"
   ]
  },
  {
   "cell_type": "code",
   "execution_count": 22,
   "id": "3ee53018",
   "metadata": {},
   "outputs": [
    {
     "data": {
      "text/latex": [
       "$$\n",
       "\n",
       "\\begin{bmatrix}\n",
       "0 & - 0.5984721441 i & 0.8011436155 i & 0  \\\\\n",
       " - 0.5984721441 i & 0 & 0 & 0.8011436155 i  \\\\\n",
       " 0.8011436155 i & 0 & 0 & 0.5984721441 i  \\\\\n",
       " 0 & 0.8011436155 i & 0.5984721441 i & 0  \\\\\n",
       " \\end{bmatrix}\n",
       "$$"
      ],
      "text/plain": [
       "<IPython.core.display.Latex object>"
      ]
     },
     "execution_count": 22,
     "metadata": {},
     "output_type": "execute_result"
    }
   ],
   "source": [
    "from qiskit.visualization import array_to_latex\n",
    "\n",
    "array_to_latex(Rxy.to_matrix())"
   ]
  },
  {
   "cell_type": "code",
   "execution_count": 11,
   "id": "4edb8935",
   "metadata": {},
   "outputs": [
    {
     "ename": "TranspilerError",
     "evalue": "\"Unable to translate the operations in the circuit: ['x', 'h'] to the backend's (or manually specified) target basis: ['barrier', 'delay', 'snapshot', 'reset', 'h', 'measure', 'cx']. This likely means the target basis is not universal or there are additional equivalence rules needed in the EquivalenceLibrary being used. For more details on this error see: https://qiskit.org/documentation/stubs/qiskit.transpiler.passes.BasisTranslator.html#translation_errors\"",
     "output_type": "error",
     "traceback": [
      "\u001b[1;31m---------------------------------------------------------------------------\u001b[0m",
      "\u001b[1;31mTranspilerError\u001b[0m                           Traceback (most recent call last)",
      "File \u001b[1;32m~\\anaconda3\\envs\\qiskit_env\\Lib\\site-packages\\qiskit\\transpiler\\runningpassmanager.py:161\u001b[0m, in \u001b[0;36m_replace_error.<locals>.wrapper\u001b[1;34m(*meth_args, **meth_kwargs)\u001b[0m\n\u001b[0;32m    160\u001b[0m \u001b[38;5;28;01mtry\u001b[39;00m:\n\u001b[1;32m--> 161\u001b[0m     \u001b[38;5;28;01mreturn\u001b[39;00m meth(\u001b[38;5;241m*\u001b[39mmeth_args, \u001b[38;5;241m*\u001b[39m\u001b[38;5;241m*\u001b[39mmeth_kwargs)\n\u001b[0;32m    162\u001b[0m \u001b[38;5;28;01mexcept\u001b[39;00m PassManagerError \u001b[38;5;28;01mas\u001b[39;00m ex:\n",
      "File \u001b[1;32m~\\anaconda3\\envs\\qiskit_env\\Lib\\site-packages\\qiskit\\passmanager\\base_tasks.py:218\u001b[0m, in \u001b[0;36mBaseController.execute\u001b[1;34m(self, passmanager_ir, state, callback)\u001b[0m\n\u001b[0;32m    217\u001b[0m \u001b[38;5;28;01mwhile\u001b[39;00m \u001b[38;5;28;01mTrue\u001b[39;00m:\n\u001b[1;32m--> 218\u001b[0m     passmanager_ir, state \u001b[38;5;241m=\u001b[39m next_task\u001b[38;5;241m.\u001b[39mexecute(\n\u001b[0;32m    219\u001b[0m         passmanager_ir\u001b[38;5;241m=\u001b[39mpassmanager_ir,\n\u001b[0;32m    220\u001b[0m         state\u001b[38;5;241m=\u001b[39mstate,\n\u001b[0;32m    221\u001b[0m         callback\u001b[38;5;241m=\u001b[39mcallback,\n\u001b[0;32m    222\u001b[0m     )\n\u001b[0;32m    223\u001b[0m     \u001b[38;5;28;01mtry\u001b[39;00m:\n\u001b[0;32m    224\u001b[0m         \u001b[38;5;66;03m# Sending the object through the generator implies the custom controllers\u001b[39;00m\n\u001b[0;32m    225\u001b[0m         \u001b[38;5;66;03m# can always rely on the latest data to choose the next task to run.\u001b[39;00m\n",
      "File \u001b[1;32m~\\anaconda3\\envs\\qiskit_env\\Lib\\site-packages\\qiskit\\transpiler\\basepasses.py:195\u001b[0m, in \u001b[0;36mTransformationPass.execute\u001b[1;34m(self, passmanager_ir, state, callback)\u001b[0m\n\u001b[0;32m    189\u001b[0m \u001b[38;5;28;01mdef\u001b[39;00m \u001b[38;5;21mexecute\u001b[39m(\n\u001b[0;32m    190\u001b[0m     \u001b[38;5;28mself\u001b[39m,\n\u001b[0;32m    191\u001b[0m     passmanager_ir: PassManagerIR,\n\u001b[0;32m    192\u001b[0m     state: PassManagerState,\n\u001b[0;32m    193\u001b[0m     callback: Callable \u001b[38;5;241m=\u001b[39m \u001b[38;5;28;01mNone\u001b[39;00m,\n\u001b[0;32m    194\u001b[0m ) \u001b[38;5;241m-\u001b[39m\u001b[38;5;241m>\u001b[39m \u001b[38;5;28mtuple\u001b[39m[PassManagerIR, PassManagerState]:\n\u001b[1;32m--> 195\u001b[0m     new_dag, state \u001b[38;5;241m=\u001b[39m \u001b[38;5;28msuper\u001b[39m()\u001b[38;5;241m.\u001b[39mexecute(\n\u001b[0;32m    196\u001b[0m         passmanager_ir\u001b[38;5;241m=\u001b[39mpassmanager_ir,\n\u001b[0;32m    197\u001b[0m         state\u001b[38;5;241m=\u001b[39mstate,\n\u001b[0;32m    198\u001b[0m         callback\u001b[38;5;241m=\u001b[39mcallback,\n\u001b[0;32m    199\u001b[0m     )\n\u001b[0;32m    201\u001b[0m     \u001b[38;5;28;01mif\u001b[39;00m state\u001b[38;5;241m.\u001b[39mworkflow_status\u001b[38;5;241m.\u001b[39mprevious_run \u001b[38;5;241m==\u001b[39m RunState\u001b[38;5;241m.\u001b[39mSUCCESS:\n",
      "File \u001b[1;32m~\\anaconda3\\envs\\qiskit_env\\Lib\\site-packages\\qiskit\\passmanager\\base_tasks.py:98\u001b[0m, in \u001b[0;36mGenericPass.execute\u001b[1;34m(self, passmanager_ir, state, callback)\u001b[0m\n\u001b[0;32m     97\u001b[0m \u001b[38;5;28;01mif\u001b[39;00m \u001b[38;5;28mself\u001b[39m \u001b[38;5;129;01mnot\u001b[39;00m \u001b[38;5;129;01min\u001b[39;00m state\u001b[38;5;241m.\u001b[39mworkflow_status\u001b[38;5;241m.\u001b[39mcompleted_passes:\n\u001b[1;32m---> 98\u001b[0m     ret \u001b[38;5;241m=\u001b[39m \u001b[38;5;28mself\u001b[39m\u001b[38;5;241m.\u001b[39mrun(passmanager_ir)\n\u001b[0;32m     99\u001b[0m     run_state \u001b[38;5;241m=\u001b[39m RunState\u001b[38;5;241m.\u001b[39mSUCCESS\n",
      "File \u001b[1;32m~\\anaconda3\\envs\\qiskit_env\\Lib\\site-packages\\qiskit\\transpiler\\passes\\basis\\basis_translator.py:217\u001b[0m, in \u001b[0;36mBasisTranslator.run\u001b[1;34m(self, dag)\u001b[0m\n\u001b[0;32m    216\u001b[0m \u001b[38;5;28;01mif\u001b[39;00m basis_transforms \u001b[38;5;129;01mis\u001b[39;00m \u001b[38;5;28;01mNone\u001b[39;00m:\n\u001b[1;32m--> 217\u001b[0m     \u001b[38;5;28;01mraise\u001b[39;00m TranspilerError(\n\u001b[0;32m    218\u001b[0m         \u001b[38;5;124m\"\u001b[39m\u001b[38;5;124mUnable to translate the operations in the circuit: \u001b[39m\u001b[38;5;124m\"\u001b[39m\n\u001b[0;32m    219\u001b[0m         \u001b[38;5;124mf\u001b[39m\u001b[38;5;124m\"\u001b[39m\u001b[38;5;132;01m{\u001b[39;00m[x[\u001b[38;5;241m0\u001b[39m] \u001b[38;5;28;01mfor\u001b[39;00m x \u001b[38;5;129;01min\u001b[39;00m source_basis]\u001b[38;5;132;01m}\u001b[39;00m\u001b[38;5;124m to the backend\u001b[39m\u001b[38;5;124m'\u001b[39m\u001b[38;5;124ms (or manually specified) target \u001b[39m\u001b[38;5;124m\"\u001b[39m\n\u001b[0;32m    220\u001b[0m         \u001b[38;5;124mf\u001b[39m\u001b[38;5;124m\"\u001b[39m\u001b[38;5;124mbasis: \u001b[39m\u001b[38;5;132;01m{\u001b[39;00m\u001b[38;5;28mlist\u001b[39m(target_basis)\u001b[38;5;132;01m}\u001b[39;00m\u001b[38;5;124m. This likely means the target basis is not universal \u001b[39m\u001b[38;5;124m\"\u001b[39m\n\u001b[0;32m    221\u001b[0m         \u001b[38;5;124m\"\u001b[39m\u001b[38;5;124mor there are additional equivalence rules needed in the EquivalenceLibrary being \u001b[39m\u001b[38;5;124m\"\u001b[39m\n\u001b[0;32m    222\u001b[0m         \u001b[38;5;124m\"\u001b[39m\u001b[38;5;124mused. For more details on this error see: \u001b[39m\u001b[38;5;124m\"\u001b[39m\n\u001b[0;32m    223\u001b[0m         \u001b[38;5;124m\"\u001b[39m\u001b[38;5;124mhttps://qiskit.org/documentation/stubs/qiskit.transpiler.passes.BasisTranslator.\u001b[39m\u001b[38;5;124m\"\u001b[39m\n\u001b[0;32m    224\u001b[0m         \u001b[38;5;124m\"\u001b[39m\u001b[38;5;124mhtml#translation_errors\u001b[39m\u001b[38;5;124m\"\u001b[39m\n\u001b[0;32m    225\u001b[0m     )\n\u001b[0;32m    227\u001b[0m \u001b[38;5;66;03m# Compose found path into a set of instruction substitution rules.\u001b[39;00m\n",
      "\u001b[1;31mTranspilerError\u001b[0m: \"Unable to translate the operations in the circuit: ['x', 'h'] to the backend's (or manually specified) target basis: ['barrier', 'delay', 'snapshot', 'reset', 'h', 'measure', 'cx']. This likely means the target basis is not universal or there are additional equivalence rules needed in the EquivalenceLibrary being used. For more details on this error see: https://qiskit.org/documentation/stubs/qiskit.transpiler.passes.BasisTranslator.html#translation_errors\"",
      "\nThe above exception was the direct cause of the following exception:\n",
      "\u001b[1;31mTranspilerError\u001b[0m                           Traceback (most recent call last)",
      "File \u001b[1;32m~\\anaconda3\\envs\\qiskit_env\\Lib\\site-packages\\qiskit\\transpiler\\passmanager.py:551\u001b[0m, in \u001b[0;36m_replace_error.<locals>.wrapper\u001b[1;34m(*meth_args, **meth_kwargs)\u001b[0m\n\u001b[0;32m    550\u001b[0m \u001b[38;5;28;01mtry\u001b[39;00m:\n\u001b[1;32m--> 551\u001b[0m     \u001b[38;5;28;01mreturn\u001b[39;00m meth(\u001b[38;5;241m*\u001b[39mmeth_args, \u001b[38;5;241m*\u001b[39m\u001b[38;5;241m*\u001b[39mmeth_kwargs)\n\u001b[0;32m    552\u001b[0m \u001b[38;5;28;01mexcept\u001b[39;00m PassManagerError \u001b[38;5;28;01mas\u001b[39;00m ex:\n",
      "File \u001b[1;32m~\\anaconda3\\envs\\qiskit_env\\Lib\\site-packages\\qiskit\\transpiler\\passmanager.py:291\u001b[0m, in \u001b[0;36mPassManager.run\u001b[1;34m(self, circuits, output_name, callback)\u001b[0m\n\u001b[0;32m    289\u001b[0m     callback \u001b[38;5;241m=\u001b[39m _legacy_style_callback(callback)\n\u001b[1;32m--> 291\u001b[0m \u001b[38;5;28;01mreturn\u001b[39;00m \u001b[38;5;28msuper\u001b[39m()\u001b[38;5;241m.\u001b[39mrun(\n\u001b[0;32m    292\u001b[0m     in_programs\u001b[38;5;241m=\u001b[39mcircuits,\n\u001b[0;32m    293\u001b[0m     callback\u001b[38;5;241m=\u001b[39mcallback,\n\u001b[0;32m    294\u001b[0m     output_name\u001b[38;5;241m=\u001b[39moutput_name,\n\u001b[0;32m    295\u001b[0m )\n",
      "File \u001b[1;32m~\\anaconda3\\envs\\qiskit_env\\Lib\\site-packages\\qiskit\\passmanager\\passmanager.py:222\u001b[0m, in \u001b[0;36mBasePassManager.run\u001b[1;34m(self, in_programs, callback, **kwargs)\u001b[0m\n\u001b[0;32m    221\u001b[0m \u001b[38;5;28;01mif\u001b[39;00m \u001b[38;5;28mlen\u001b[39m(in_programs) \u001b[38;5;241m==\u001b[39m \u001b[38;5;241m1\u001b[39m:\n\u001b[1;32m--> 222\u001b[0m     out_program \u001b[38;5;241m=\u001b[39m _run_workflow(\n\u001b[0;32m    223\u001b[0m         program\u001b[38;5;241m=\u001b[39min_programs[\u001b[38;5;241m0\u001b[39m],\n\u001b[0;32m    224\u001b[0m         pass_manager\u001b[38;5;241m=\u001b[39m\u001b[38;5;28mself\u001b[39m,\n\u001b[0;32m    225\u001b[0m         callback\u001b[38;5;241m=\u001b[39mcallback,\n\u001b[0;32m    226\u001b[0m         \u001b[38;5;241m*\u001b[39m\u001b[38;5;241m*\u001b[39mkwargs,\n\u001b[0;32m    227\u001b[0m     )\n\u001b[0;32m    228\u001b[0m     \u001b[38;5;28;01mif\u001b[39;00m is_list:\n",
      "File \u001b[1;32m~\\anaconda3\\envs\\qiskit_env\\Lib\\site-packages\\qiskit\\passmanager\\passmanager.py:284\u001b[0m, in \u001b[0;36m_run_workflow\u001b[1;34m(program, pass_manager, **kwargs)\u001b[0m\n\u001b[0;32m    280\u001b[0m passmanager_ir \u001b[38;5;241m=\u001b[39m pass_manager\u001b[38;5;241m.\u001b[39m_passmanager_frontend(\n\u001b[0;32m    281\u001b[0m     input_program\u001b[38;5;241m=\u001b[39mprogram,\n\u001b[0;32m    282\u001b[0m     \u001b[38;5;241m*\u001b[39m\u001b[38;5;241m*\u001b[39mkwargs,\n\u001b[0;32m    283\u001b[0m )\n\u001b[1;32m--> 284\u001b[0m passmanager_ir, _ \u001b[38;5;241m=\u001b[39m flow_controller\u001b[38;5;241m.\u001b[39mexecute(\n\u001b[0;32m    285\u001b[0m     passmanager_ir\u001b[38;5;241m=\u001b[39mpassmanager_ir,\n\u001b[0;32m    286\u001b[0m     state\u001b[38;5;241m=\u001b[39mPassManagerState(\n\u001b[0;32m    287\u001b[0m         workflow_status\u001b[38;5;241m=\u001b[39minitial_status,\n\u001b[0;32m    288\u001b[0m         property_set\u001b[38;5;241m=\u001b[39mpass_manager\u001b[38;5;241m.\u001b[39mproperty_set,\n\u001b[0;32m    289\u001b[0m     ),\n\u001b[0;32m    290\u001b[0m     callback\u001b[38;5;241m=\u001b[39mkwargs\u001b[38;5;241m.\u001b[39mget(\u001b[38;5;124m\"\u001b[39m\u001b[38;5;124mcallback\u001b[39m\u001b[38;5;124m\"\u001b[39m, \u001b[38;5;28;01mNone\u001b[39;00m),\n\u001b[0;32m    291\u001b[0m )\n\u001b[0;32m    292\u001b[0m out_program \u001b[38;5;241m=\u001b[39m pass_manager\u001b[38;5;241m.\u001b[39m_passmanager_backend(\n\u001b[0;32m    293\u001b[0m     passmanager_ir\u001b[38;5;241m=\u001b[39mpassmanager_ir,\n\u001b[0;32m    294\u001b[0m     in_program\u001b[38;5;241m=\u001b[39mprogram,\n\u001b[0;32m    295\u001b[0m     \u001b[38;5;241m*\u001b[39m\u001b[38;5;241m*\u001b[39mkwargs,\n\u001b[0;32m    296\u001b[0m )\n",
      "File \u001b[1;32m~\\anaconda3\\envs\\qiskit_env\\Lib\\site-packages\\qiskit\\transpiler\\runningpassmanager.py:163\u001b[0m, in \u001b[0;36m_replace_error.<locals>.wrapper\u001b[1;34m(*meth_args, **meth_kwargs)\u001b[0m\n\u001b[0;32m    162\u001b[0m \u001b[38;5;28;01mexcept\u001b[39;00m PassManagerError \u001b[38;5;28;01mas\u001b[39;00m ex:\n\u001b[1;32m--> 163\u001b[0m     \u001b[38;5;28;01mraise\u001b[39;00m TranspilerError(ex\u001b[38;5;241m.\u001b[39mmessage) \u001b[38;5;28;01mfrom\u001b[39;00m \u001b[38;5;21;01mex\u001b[39;00m\n",
      "\u001b[1;31mTranspilerError\u001b[0m: \"Unable to translate the operations in the circuit: ['x', 'h'] to the backend's (or manually specified) target basis: ['barrier', 'delay', 'snapshot', 'reset', 'h', 'measure', 'cx']. This likely means the target basis is not universal or there are additional equivalence rules needed in the EquivalenceLibrary being used. For more details on this error see: https://qiskit.org/documentation/stubs/qiskit.transpiler.passes.BasisTranslator.html#translation_errors\"",
      "\nThe above exception was the direct cause of the following exception:\n",
      "\u001b[1;31mTranspilerError\u001b[0m                           Traceback (most recent call last)",
      "Cell \u001b[1;32mIn[11], line 2\u001b[0m\n\u001b[0;32m      1\u001b[0m basis_gates \u001b[38;5;241m=\u001b[39m [\u001b[38;5;124m'\u001b[39m\u001b[38;5;124mh\u001b[39m\u001b[38;5;124m'\u001b[39m, \u001b[38;5;124m'\u001b[39m\u001b[38;5;124mcx\u001b[39m\u001b[38;5;124m'\u001b[39m]\n\u001b[1;32m----> 2\u001b[0m qc_trans \u001b[38;5;241m=\u001b[39m transpile(qc, basis_gates\u001b[38;5;241m=\u001b[39mbasis_gates)\n\u001b[0;32m      3\u001b[0m qc_trans\u001b[38;5;241m.\u001b[39mdraw()\n",
      "File \u001b[1;32m~\\anaconda3\\envs\\qiskit_env\\Lib\\site-packages\\qiskit\\compiler\\transpiler.py:428\u001b[0m, in \u001b[0;36mtranspile\u001b[1;34m(circuits, backend, basis_gates, inst_map, coupling_map, backend_properties, initial_layout, layout_method, routing_method, translation_method, scheduling_method, instruction_durations, dt, approximation_degree, timing_constraints, seed_transpiler, optimization_level, callback, output_name, unitary_synthesis_method, unitary_synthesis_plugin_config, target, hls_config, init_method, optimization_method, ignore_backend_supplied_default_methods)\u001b[0m\n\u001b[0;32m    400\u001b[0m         instruction_durations \u001b[38;5;241m=\u001b[39m _parse_instruction_durations(\n\u001b[0;32m    401\u001b[0m             backend, instruction_durations, dt, circuits[\u001b[38;5;241m0\u001b[39m]\n\u001b[0;32m    402\u001b[0m         )\n\u001b[0;32m    404\u001b[0m pm \u001b[38;5;241m=\u001b[39m generate_preset_pass_manager(\n\u001b[0;32m    405\u001b[0m     optimization_level,\n\u001b[0;32m    406\u001b[0m     backend\u001b[38;5;241m=\u001b[39mbackend,\n\u001b[1;32m   (...)\u001b[0m\n\u001b[0;32m    426\u001b[0m     _skip_target\u001b[38;5;241m=\u001b[39m_skip_target,\n\u001b[0;32m    427\u001b[0m )\n\u001b[1;32m--> 428\u001b[0m out_circuits \u001b[38;5;241m=\u001b[39m pm\u001b[38;5;241m.\u001b[39mrun(circuits, callback\u001b[38;5;241m=\u001b[39mcallback)\n\u001b[0;32m    429\u001b[0m \u001b[38;5;28;01mfor\u001b[39;00m name, circ \u001b[38;5;129;01min\u001b[39;00m \u001b[38;5;28mzip\u001b[39m(output_name, out_circuits):\n\u001b[0;32m    430\u001b[0m     circ\u001b[38;5;241m.\u001b[39mname \u001b[38;5;241m=\u001b[39m name\n",
      "File \u001b[1;32m~\\anaconda3\\envs\\qiskit_env\\Lib\\site-packages\\qiskit\\transpiler\\passmanager.py:532\u001b[0m, in \u001b[0;36mStagedPassManager.run\u001b[1;34m(self, circuits, output_name, callback)\u001b[0m\n\u001b[0;32m    525\u001b[0m \u001b[38;5;28;01mdef\u001b[39;00m \u001b[38;5;21mrun\u001b[39m(\n\u001b[0;32m    526\u001b[0m     \u001b[38;5;28mself\u001b[39m,\n\u001b[0;32m    527\u001b[0m     circuits: _CircuitsT,\n\u001b[0;32m    528\u001b[0m     output_name: \u001b[38;5;28mstr\u001b[39m \u001b[38;5;241m|\u001b[39m \u001b[38;5;28;01mNone\u001b[39;00m \u001b[38;5;241m=\u001b[39m \u001b[38;5;28;01mNone\u001b[39;00m,\n\u001b[0;32m    529\u001b[0m     callback: Callable \u001b[38;5;241m|\u001b[39m \u001b[38;5;28;01mNone\u001b[39;00m \u001b[38;5;241m=\u001b[39m \u001b[38;5;28;01mNone\u001b[39;00m,\n\u001b[0;32m    530\u001b[0m ) \u001b[38;5;241m-\u001b[39m\u001b[38;5;241m>\u001b[39m _CircuitsT:\n\u001b[0;32m    531\u001b[0m     \u001b[38;5;28mself\u001b[39m\u001b[38;5;241m.\u001b[39m_update_passmanager()\n\u001b[1;32m--> 532\u001b[0m     \u001b[38;5;28;01mreturn\u001b[39;00m \u001b[38;5;28msuper\u001b[39m()\u001b[38;5;241m.\u001b[39mrun(circuits, output_name, callback)\n",
      "File \u001b[1;32m~\\anaconda3\\envs\\qiskit_env\\Lib\\site-packages\\qiskit\\transpiler\\passmanager.py:553\u001b[0m, in \u001b[0;36m_replace_error.<locals>.wrapper\u001b[1;34m(*meth_args, **meth_kwargs)\u001b[0m\n\u001b[0;32m    551\u001b[0m     \u001b[38;5;28;01mreturn\u001b[39;00m meth(\u001b[38;5;241m*\u001b[39mmeth_args, \u001b[38;5;241m*\u001b[39m\u001b[38;5;241m*\u001b[39mmeth_kwargs)\n\u001b[0;32m    552\u001b[0m \u001b[38;5;28;01mexcept\u001b[39;00m PassManagerError \u001b[38;5;28;01mas\u001b[39;00m ex:\n\u001b[1;32m--> 553\u001b[0m     \u001b[38;5;28;01mraise\u001b[39;00m TranspilerError(ex\u001b[38;5;241m.\u001b[39mmessage) \u001b[38;5;28;01mfrom\u001b[39;00m \u001b[38;5;21;01mex\u001b[39;00m\n",
      "\u001b[1;31mTranspilerError\u001b[0m: \"Unable to translate the operations in the circuit: ['x', 'h'] to the backend's (or manually specified) target basis: ['barrier', 'delay', 'snapshot', 'reset', 'h', 'measure', 'cx']. This likely means the target basis is not universal or there are additional equivalence rules needed in the EquivalenceLibrary being used. For more details on this error see: https://qiskit.org/documentation/stubs/qiskit.transpiler.passes.BasisTranslator.html#translation_errors\""
     ]
    }
   ],
   "source": [
    "basis_gates = ['h', 'cx']\n",
    "qc_trans = transpile(qc, basis_gates=basis_gates)\n",
    "qc_trans.draw()"
   ]
  },
  {
   "cell_type": "code",
   "execution_count": 93,
   "id": "3a0c9afa",
   "metadata": {},
   "outputs": [
    {
     "name": "stdout",
     "output_type": "stream",
     "text": [
      "<qiskit.providers.models.backendstatus.BackendStatus object at 0x000001B4CD2CF590>\n"
     ]
    }
   ],
   "source": [
    "from qiskit_experiments.library import StateTomography\n",
    "from qiskit.circuit import QuantumCircuit\n",
    "from qiskit.providers.aer import AerSimulator\n",
    "from qiskit.providers.fake_provider import FakeGuadalupe\n",
    "from qiskit_aer.noise import NoiseModel\n",
    "from qiskit.quantum_info import DensityMatrix\n",
    "\n",
    "\n",
    "shots = 1\n",
    "backend = AerSimulator(method=\"statevector\")\n",
    "print(backend.status())\n",
    "\n",
    "qc = QuantumCircuit(2)\n",
    "qc.h(0)\n",
    "experiment = StateTomography(qc)\n",
    "data = experiment.run(backend).block_for_results()"
   ]
  },
  {
   "cell_type": "code",
   "execution_count": 94,
   "id": "507e6364",
   "metadata": {},
   "outputs": [
    {
     "data": {
      "text/plain": [
       "AnalysisResult(name=state_fidelity, value=0.9886820253919013, device_components=[<Qubit(Q0)>, <Qubit(Q1)>], experiment_id=a63d10ac-19ba-4b01-8a2a-781d0e85f6f6, result_id=ec007e51-ef6f-4640-86d0-4ebfd36d7ee4, chisq=None, quality=unknown, verified=False, extra={'trace': None, 'eigvals': None, 'raw_eigvals': None, 'rescaled_psd': None, 'fitter_metadata': None, 'conditional_probability': None, 'positive': None, 'experiment': 'StateTomography', 'run_time': None}, tags=[], experiment id='a63d10ac-19ba-4b01-8a2a-781d0e85f6f6')"
      ]
     },
     "execution_count": 94,
     "metadata": {},
     "output_type": "execute_result"
    }
   ],
   "source": [
    "data.analysis_results(\"state_fidelity\")"
   ]
  },
  {
   "cell_type": "code",
   "execution_count": 35,
   "id": "9fe7dbe4",
   "metadata": {},
   "outputs": [
    {
     "ename": "TypeError",
     "evalue": "loss() missing 1 required positional argument: 'a'",
     "output_type": "error",
     "traceback": [
      "\u001b[1;31m---------------------------------------------------------------------------\u001b[0m",
      "\u001b[1;31mTypeError\u001b[0m                                 Traceback (most recent call last)",
      "Cell \u001b[1;32mIn[35], line 16\u001b[0m\n\u001b[0;32m     14\u001b[0m spsa \u001b[38;5;241m=\u001b[39m SPSA(maxiter\u001b[38;5;241m=\u001b[39m\u001b[38;5;241m300\u001b[39m)\n\u001b[0;32m     15\u001b[0m a \u001b[38;5;241m=\u001b[39m \u001b[38;5;241m2\u001b[39m\n\u001b[1;32m---> 16\u001b[0m result \u001b[38;5;241m=\u001b[39m spsa\u001b[38;5;241m.\u001b[39mminimize(loss, initial_point, jac\u001b[38;5;241m=\u001b[39ma)\n\u001b[0;32m     17\u001b[0m \u001b[38;5;28mprint\u001b[39m(result)\n",
      "File \u001b[1;32m~\\anaconda3\\envs\\qiskit_env\\Lib\\site-packages\\qiskit\\algorithms\\optimizers\\spsa.py:514\u001b[0m, in \u001b[0;36mSPSA.minimize\u001b[1;34m(self, fun, x0, jac, bounds)\u001b[0m\n\u001b[0;32m    504\u001b[0m \u001b[38;5;28;01mdef\u001b[39;00m \u001b[38;5;21mminimize\u001b[39m(\n\u001b[0;32m    505\u001b[0m     \u001b[38;5;28mself\u001b[39m,\n\u001b[0;32m    506\u001b[0m     fun: Callable[[POINT], \u001b[38;5;28mfloat\u001b[39m],\n\u001b[1;32m   (...)\u001b[0m\n\u001b[0;32m    511\u001b[0m     \u001b[38;5;66;03m# ensure learning rate and perturbation are correctly set: either none or both\u001b[39;00m\n\u001b[0;32m    512\u001b[0m     \u001b[38;5;66;03m# this happens only here because for the calibration the loss function is required\u001b[39;00m\n\u001b[0;32m    513\u001b[0m     \u001b[38;5;28;01mif\u001b[39;00m \u001b[38;5;28mself\u001b[39m\u001b[38;5;241m.\u001b[39mlearning_rate \u001b[38;5;129;01mis\u001b[39;00m \u001b[38;5;28;01mNone\u001b[39;00m \u001b[38;5;129;01mand\u001b[39;00m \u001b[38;5;28mself\u001b[39m\u001b[38;5;241m.\u001b[39mperturbation \u001b[38;5;129;01mis\u001b[39;00m \u001b[38;5;28;01mNone\u001b[39;00m:\n\u001b[1;32m--> 514\u001b[0m         get_eta, get_eps \u001b[38;5;241m=\u001b[39m \u001b[38;5;28mself\u001b[39m\u001b[38;5;241m.\u001b[39mcalibrate(fun, x0, max_evals_grouped\u001b[38;5;241m=\u001b[39m\u001b[38;5;28mself\u001b[39m\u001b[38;5;241m.\u001b[39m_max_evals_grouped)\n\u001b[0;32m    515\u001b[0m     \u001b[38;5;28;01melse\u001b[39;00m:\n\u001b[0;32m    516\u001b[0m         get_eta, get_eps \u001b[38;5;241m=\u001b[39m _validate_pert_and_learningrate(\n\u001b[0;32m    517\u001b[0m             \u001b[38;5;28mself\u001b[39m\u001b[38;5;241m.\u001b[39mperturbation, \u001b[38;5;28mself\u001b[39m\u001b[38;5;241m.\u001b[39mlearning_rate\n\u001b[0;32m    518\u001b[0m         )\n",
      "File \u001b[1;32m~\\anaconda3\\envs\\qiskit_env\\Lib\\site-packages\\qiskit\\algorithms\\optimizers\\spsa.py:335\u001b[0m, in \u001b[0;36mSPSA.calibrate\u001b[1;34m(loss, initial_point, c, stability_constant, target_magnitude, alpha, gamma, modelspace, max_evals_grouped)\u001b[0m\n\u001b[0;32m    332\u001b[0m     pert \u001b[38;5;241m=\u001b[39m bernoulli_perturbation(dim)\n\u001b[0;32m    333\u001b[0m     points \u001b[38;5;241m+\u001b[39m\u001b[38;5;241m=\u001b[39m [initial_point \u001b[38;5;241m+\u001b[39m c \u001b[38;5;241m*\u001b[39m pert, initial_point \u001b[38;5;241m-\u001b[39m c \u001b[38;5;241m*\u001b[39m pert]\n\u001b[1;32m--> 335\u001b[0m losses \u001b[38;5;241m=\u001b[39m _batch_evaluate(loss, points, max_evals_grouped)\n\u001b[0;32m    337\u001b[0m avg_magnitudes \u001b[38;5;241m=\u001b[39m \u001b[38;5;241m0.0\u001b[39m\n\u001b[0;32m    338\u001b[0m \u001b[38;5;28;01mfor\u001b[39;00m i \u001b[38;5;129;01min\u001b[39;00m \u001b[38;5;28mrange\u001b[39m(steps):\n",
      "File \u001b[1;32m~\\anaconda3\\envs\\qiskit_env\\Lib\\site-packages\\qiskit\\algorithms\\optimizers\\spsa.py:733\u001b[0m, in \u001b[0;36m_batch_evaluate\u001b[1;34m(function, points, max_evals_grouped, unpack_points)\u001b[0m\n\u001b[0;32m    730\u001b[0m \u001b[38;5;66;03m# if the function cannot handle lists of points as input, cover this case immediately\u001b[39;00m\n\u001b[0;32m    731\u001b[0m \u001b[38;5;28;01mif\u001b[39;00m max_evals_grouped \u001b[38;5;129;01mis\u001b[39;00m \u001b[38;5;28;01mNone\u001b[39;00m \u001b[38;5;129;01mor\u001b[39;00m max_evals_grouped \u001b[38;5;241m==\u001b[39m \u001b[38;5;241m1\u001b[39m:\n\u001b[0;32m    732\u001b[0m     \u001b[38;5;66;03m# support functions with multiple arguments where the points are given in a tuple\u001b[39;00m\n\u001b[1;32m--> 733\u001b[0m     \u001b[38;5;28;01mreturn\u001b[39;00m [\n\u001b[0;32m    734\u001b[0m         function(\u001b[38;5;241m*\u001b[39mpoint) \u001b[38;5;28;01mif\u001b[39;00m \u001b[38;5;28misinstance\u001b[39m(point, \u001b[38;5;28mtuple\u001b[39m) \u001b[38;5;28;01melse\u001b[39;00m function(point) \u001b[38;5;28;01mfor\u001b[39;00m point \u001b[38;5;129;01min\u001b[39;00m points\n\u001b[0;32m    735\u001b[0m     ]\n\u001b[0;32m    737\u001b[0m num_points \u001b[38;5;241m=\u001b[39m \u001b[38;5;28mlen\u001b[39m(points)\n\u001b[0;32m    739\u001b[0m \u001b[38;5;66;03m# get the number of batches\u001b[39;00m\n",
      "File \u001b[1;32m~\\anaconda3\\envs\\qiskit_env\\Lib\\site-packages\\qiskit\\algorithms\\optimizers\\spsa.py:734\u001b[0m, in \u001b[0;36m<listcomp>\u001b[1;34m(.0)\u001b[0m\n\u001b[0;32m    730\u001b[0m \u001b[38;5;66;03m# if the function cannot handle lists of points as input, cover this case immediately\u001b[39;00m\n\u001b[0;32m    731\u001b[0m \u001b[38;5;28;01mif\u001b[39;00m max_evals_grouped \u001b[38;5;129;01mis\u001b[39;00m \u001b[38;5;28;01mNone\u001b[39;00m \u001b[38;5;129;01mor\u001b[39;00m max_evals_grouped \u001b[38;5;241m==\u001b[39m \u001b[38;5;241m1\u001b[39m:\n\u001b[0;32m    732\u001b[0m     \u001b[38;5;66;03m# support functions with multiple arguments where the points are given in a tuple\u001b[39;00m\n\u001b[0;32m    733\u001b[0m     \u001b[38;5;28;01mreturn\u001b[39;00m [\n\u001b[1;32m--> 734\u001b[0m         function(\u001b[38;5;241m*\u001b[39mpoint) \u001b[38;5;28;01mif\u001b[39;00m \u001b[38;5;28misinstance\u001b[39m(point, \u001b[38;5;28mtuple\u001b[39m) \u001b[38;5;28;01melse\u001b[39;00m function(point) \u001b[38;5;28;01mfor\u001b[39;00m point \u001b[38;5;129;01min\u001b[39;00m points\n\u001b[0;32m    735\u001b[0m     ]\n\u001b[0;32m    737\u001b[0m num_points \u001b[38;5;241m=\u001b[39m \u001b[38;5;28mlen\u001b[39m(points)\n\u001b[0;32m    739\u001b[0m \u001b[38;5;66;03m# get the number of batches\u001b[39;00m\n",
      "\u001b[1;31mTypeError\u001b[0m: loss() missing 1 required positional argument: 'a'"
     ]
    }
   ],
   "source": [
    "import numpy as np\n",
    "from qiskit.algorithms.optimizers import SPSA\n",
    "from qiskit.circuit.library import PauliTwoDesign\n",
    "from qiskit.opflow import Z\n",
    " \n",
    "ansatz = PauliTwoDesign(2, reps=1, seed=2)\n",
    "observable = Z ^ Z\n",
    "initial_point = np.random.random(2)\n",
    " \n",
    "def loss(x, a):\n",
    "    z = a + x[0]**2 + x[1]**2\n",
    "    return z\n",
    "\n",
    "spsa = SPSA(maxiter=300)\n",
    "a = 2\n",
    "result = spsa.minimize(loss, initial_point, jac=a)\n",
    "print(result)"
   ]
  },
  {
   "cell_type": "code",
   "execution_count": 4,
   "id": "1dfb5570",
   "metadata": {},
   "outputs": [],
   "source": [
    "import numpy as np\n",
    "import scipy\n",
    "\n",
    "\n",
    "\n",
    "from scipy.optimize import minimize\n",
    "from qiskit.quantum_info import SparsePauliOp, Statevector, DensityMatrix, partial_trace, state_fidelity\n",
    "from qiskit.circuit import QuantumCircuit, Parameter\n",
    "from qiskit.primitives import Sampler\n",
    "from qiskit_experiments.library import StateTomography\n",
    "\n",
    "from library import plotting\n",
    "from library import state_label\n",
    "from library.ansatz_creation import two_local\n",
    "from library.operator_creation import LMG_hamiltonian\n",
    "from library.QMETTS import QMETTS_instance"
   ]
  },
  {
   "cell_type": "code",
   "execution_count": 29,
   "id": "ee0601d6",
   "metadata": {},
   "outputs": [
    {
     "data": {
      "text/html": [
       "<pre>&lt;qiskit.providers.models.backendstatus.BackendStatus object at 0x000001A5B935ED30&gt;</pre><b>name</b>: aer_simulator<br/><b>version</b>: 0.13.3, <b>pending jobs</b>: 0<br/><b>status</b>: <br/>"
      ],
      "text/plain": [
       "<qiskit.providers.models.backendstatus.BackendStatus at 0x1a5b935ed30>"
      ]
     },
     "execution_count": 29,
     "metadata": {},
     "output_type": "execute_result"
    }
   ],
   "source": [
    "from qiskit.providers.aer import AerSimulator\n",
    "from qiskit.providers.fake_provider import FakeGuadalupe\n",
    "from qiskit_aer.noise import NoiseModel\n",
    "\n",
    "\n",
    "fake_backend = FakeGuadalupe()\n",
    "noise_model = NoiseModel.from_backend(fake_backend)\n",
    "backend = AerSimulator(method=\"density_matrix\", noise_model=noise_model, shots=2089)\n",
    "\n",
    "backend.status()"
   ]
  },
  {
   "cell_type": "code",
   "execution_count": 19,
   "id": "cac2b3b2",
   "metadata": {},
   "outputs": [],
   "source": [
    "import numpy as np\n",
    "from qiskit.quantum_info import Statevector\n",
    "from library.operator_creation import LMG_hamiltonian\n",
    "\n",
    "\n",
    "B_list = [0.1, 0.4, 0.7, 1., 1.2]\n",
    "\n",
    "pm_state_list = [Statevector([ 0.99791277+0.j, -0.00947531+0.j, -0.01884578+0.j,\n",
    "              0.06103414+0.j]), Statevector([ 9.98088109e-01+0.j, -3.97526621e-04+0.j, -7.84204092e-04+0.j,\n",
    "              6.18009182e-02+0.j]), Statevector([ 9.99364498e-01+0.j, -1.48692664e-05+0.j, -3.26493202e-05+0.j,\n",
    "              3.56454626e-02+0.j]), Statevector([ 9.99688036e-01+0.j, -5.14060828e-07+0.j, -1.32334742e-06+0.j,\n",
    "              2.49765988e-02+0.j]), Statevector([ 9.99783245e-01+0.j, -5.23486186e-08+0.j, -1.54593296e-07+0.j,\n",
    "              2.08197851e-02+0.j])]\n",
    "\n",
    "pp_state_list = [Statevector([0.02726132+0.j, 0.70681949+0.j, 0.70681949+0.j,\n",
    "             0.00832047+0.j]), Statevector([0.4240404 +0.j, 0.64011183+0.j, 0.64011237+0.j,\n",
    "             0.02650931+0.j]), Statevector([0.99348546+0.j, 0.07658334+0.j, 0.07658563+0.j,\n",
    "             0.03544396+0.j]), Statevector([0.9996737 +0.j, 0.00378721+0.j, 0.00378722+0.j,\n",
    "             0.02497634+0.j]), Statevector([9.99782994e-01+0.j, 5.00950519e-04+0.j, 5.00951143e-04+0.j,\n",
    "             2.08197831e-02+0.j])]\n",
    "\n",
    "N = 2\n",
    "gy = 0.8\n",
    "B_class = np.linspace(0., 1.3, 100)\n",
    "first_state_energy = []\n",
    "ground_state_energy = []\n",
    "for B in B_class:\n",
    "    H = LMG_hamiltonian(N, gy, B)\n",
    "    ground_state_energy.append(H.get_ground_state()[0])\n",
    "    first_state_energy.append(H.diagonalize(H.get_matrix())[0][1])\n",
    "    \n",
    "pm_e = []\n",
    "pp_e = []\n",
    "for index in range(len(B_list)):\n",
    "    H = LMG_hamiltonian(N, gy, B_list[index])\n",
    "    pm_e.append(pm_state_list[index].inner(pm_state_list[index].evolve(H.get_pauli())))\n",
    "    pp_e.append(pp_state_list[index].inner(pp_state_list[index].evolve(H.get_pauli())))"
   ]
  },
  {
   "cell_type": "code",
   "execution_count": 28,
   "id": "ce31fac0",
   "metadata": {},
   "outputs": [
    {
     "data": {
      "image/png": "[encoded data removed]",
      "text/plain": [
       "<Figure size 540x540 with 1 Axes>"
      ]
     },
     "metadata": {
      "needs_background": "light"
     },
     "output_type": "display_data"
    }
   ],
   "source": [
    "import matplotlib.pyplot as plt\n",
    "\n",
    "\n",
    "\n",
    "plt.rcParams[\"figure.figsize\"] = [7.50, 7.50]\n",
    "plt.rcParams[\"figure.autolayout\"] = True\n",
    "\n",
    "\n",
    "plt.title(\"Ground State and 1st state energy for N = {}, $\\gamma$ = {}\".format(N, gy))\n",
    "\n",
    "\n",
    "plt.plot(B_class, ground_state_energy, color=\"black\", lw=2.5, label = \"Numerical GS energy\")\n",
    "plt.plot(B_class, first_state_energy, color=\"blue\", lw=2.5, label=\"Numerical 1st state energy\")\n",
    "plt.axvline(0.5*np.sqrt(gy), color='black', linestyle='dotted', label = \"Transition phase\")\n",
    "\n",
    "    \n",
    "plt.scatter(B_list, pm_e,color=\"pink\",edgecolor=\"white\",marker='o',s=120, label = \"QITE from +-\")\n",
    "plt.scatter(B_list, pp_e,color=\"darkorange\",edgecolor=\"white\",marker='o',s=120, label = \"QITE from ++\")\n",
    "\n",
    "\n",
    "plt.ylabel('Energy')\n",
    "plt.xlabel('Magnetic field')\n",
    "\n",
    "\n",
    "# Line of codes to avoid repeating labels in legend\n",
    "handles, labels = plt.gca().get_legend_handles_labels()\n",
    "by_label = dict(zip(labels, handles))\n",
    "plt.legend(by_label.values(), by_label.keys())\n",
    "\n",
    "plt.grid()\n",
    "plt.show()"
   ]
  },
  {
   "cell_type": "markdown",
   "id": "ad61dfe1",
   "metadata": {},
   "source": [
    "# Variational Gibbs State Preparation on NISQ devices - Consiglio algorithm"
   ]
  },
  {
   "cell_type": "code",
   "execution_count": null,
   "id": "33c66d38",
   "metadata": {},
   "outputs": [],
   "source": [
    "N = 2\n",
    "gy = 0.5\n",
    "B = 0.2\n",
    "\n",
    "\n",
    "sampler = Sampler()\n",
    "LMG = LMG_hamiltonian(N, gy, B)\n",
    "H = SparsePauliOp([\"XX\"], coeffs=[1.0])\n",
    "ansatz = two_local(num_qubits=N, num_reps=1)\n",
    "ansatz.bind_parameters([0.0, 0.0, 0.0, 0.0])\n",
    "eigen = LMG.diagonalize(H)\n",
    "eigenvalues = eigen[0]\n",
    "U = np.matrix(eigen[1]).getH()\n",
    "circuit = ansatz.build()\n",
    "\n",
    "new_qc = ansatz.build()\n",
    "new_qc.unitary(U, new_qc.qubits)\n",
    "new_qc.measure_all()\n",
    "job = sampler.run(new_qc, shots=5000)\n",
    "print(state_label.exp_value(circuit, H))\n",
    "print(eigenvalues, eigen[1])\n",
    "for key in job.result().quasi_dists[0].keys():\n",
    "    print(type(key))\n",
    "    print(job.result().quasi_dists[0][key])\n",
    "print(new_qc.num_qubits)"
   ]
  },
  {
   "cell_type": "code",
   "execution_count": null,
   "id": "7c8fca80",
   "metadata": {},
   "outputs": [],
   "source": [
    "N = 2\n",
    "H = SparsePauliOp([\"X\"], 1.0)\n",
    "\n",
    "qc = QuantumCircuit(N)\n",
    "qc.h(0)\n",
    "qc.cx(0,1)\n",
    "qc.h(1)\n",
    "qc.measure_all()\n",
    "print(qc.draw())\n",
    "\n",
    "job = sampler.run(qc, shots=10000)\n",
    "prob_dict = job.result().quasi_dists[0]\n",
    "print(prob_dict)\n",
    "\n",
    "\n",
    "new_qc = QuantumCircuit(N)\n",
    "new_qc.h(0)\n",
    "new_qc.cx(0,1)\n",
    "#print(new_qc.decompose().draw())\n",
    "#rho = DensityMatrix(qc)\n",
    "#print(rho.probabilities([0]))\n",
    "#print(partial_trace(rho, [0]))\n",
    "#print(rho.expectation_value(H, [1]))"
   ]
  },
  {
   "cell_type": "code",
   "execution_count": null,
   "id": "f8cb128b",
   "metadata": {},
   "outputs": [],
   "source": [
    "def cost(parameter_list, ancilla_ansatz, system_ansatz, observable, beta):\n",
    "    ancilla_parameter = []\n",
    "    system_parameter = []\n",
    "    for index in range(int(len(parameter_list)/2)):\n",
    "        ancilla_parameter.append(parameter_list[index])\n",
    "        system_parameter.append(parameter_list[index + int(len(parameter_list)/2)])\n",
    "        \n",
    "    ancilla_ansatz.bind_parameters(ancilla_parameter)\n",
    "    system_ansatz.bind_parameters(system_parameter)\n",
    "    print(\"ancilla_parameter\", ancilla_parameter)\n",
    "    print(\"system_parameter\", system_parameter)\n",
    "    \n",
    "    ancilla_qc = ancilla_ansatz.build()\n",
    "    system_qc = system_ansatz.build()\n",
    "    \n",
    "    \n",
    "    N_ancilla = ancilla_qc.num_qubits\n",
    "    N_system = system_qc.num_qubits\n",
    "    LMG = LMG_hamiltonian(N_system, 0.0, 1.0)\n",
    "    eigen = LMG.diagonalize(observable)\n",
    "\n",
    "    total_qc = QuantumCircuit(N_ancilla + N_system)\n",
    "    total_qc.append(ancilla_qc, range(0, N_ancilla))\n",
    "    for qbit in range(0, N_system):\n",
    "        total_qc.cx(qbit, qbit+N_system)\n",
    "    total_qc.append(system_qc, range(N_ancilla, N_ancilla + N_system))\n",
    "    #print(total_qc.decompose().draw())\n",
    "    \n",
    "    rho = DensityMatrix(total_qc)\n",
    "    rho_tom = StateTomography(total_qc)\n",
    "    prob_ancilla = rho.probabilities(range(0, N_ancilla))\n",
    "    entropy = 0.0\n",
    "    for index in range(len(prob_ancilla)):\n",
    "        if prob_ancilla[index] != 0.0:\n",
    "            entropy -= prob_ancilla[index]*np.log(prob_ancilla[index])\n",
    "    system_exp_value = rho.expectation_value(observable, range(N_ancilla, N_ancilla+N_system))\n",
    "    \n",
    "    if(np.imag(system_exp_value) != 0.0):\n",
    "        print(\"Exp_value Imag\")\n",
    "        \n",
    "    print(\"current F =\", np.real(beta*system_exp_value - entropy))    \n",
    "    return np.real(beta*system_exp_value - entropy)\n",
    "\n",
    "N = 2\n",
    "gy = 0.2\n",
    "B = 0.8\n",
    "beta = 0.3\n",
    "ancilla_ansatz = two_local(num_qubits=N, num_reps=1)\n",
    "system_ansatz = two_local(num_qubits=N, num_reps=1, par_name=\"y\")\n",
    "parameter_list = np.zeros(8)\n",
    "\n",
    "H = LMG_hamiltonian(N, gy, B)\n",
    "cost(parameter_list, ancilla_ansatz, system_ansatz, H.get_pauli(), beta)"
   ]
  },
  {
   "cell_type": "code",
   "execution_count": null,
   "id": "4f038157",
   "metadata": {},
   "outputs": [],
   "source": [
    "from qiskit_ibm_provider import IBMProvider\n",
    "provider = IBMProvider()"
   ]
  },
  {
   "cell_type": "code",
   "execution_count": null,
   "id": "c5f89e02",
   "metadata": {},
   "outputs": [],
   "source": [
    "backend_service = provider.backend"
   ]
  },
  {
   "cell_type": "code",
   "execution_count": null,
   "id": "71e99c7c",
   "metadata": {},
   "outputs": [],
   "source": [
    "provider.backends()"
   ]
  },
  {
   "cell_type": "code",
   "execution_count": null,
   "id": "1166a491",
   "metadata": {},
   "outputs": [],
   "source": [
    "simulator_backend = provider.get_backend(\"simulator_statevector\")"
   ]
  },
  {
   "cell_type": "code",
   "execution_count": null,
   "id": "5199db25",
   "metadata": {},
   "outputs": [],
   "source": [
    "N = 2\n",
    "gy = 0.2\n",
    "B = 0.8\n",
    "beta = 0.3\n",
    "ancilla_ansatz = two_local(num_qubits=N, num_reps=1)\n",
    "system_ansatz = two_local(num_qubits=N, num_reps=1, par_name=\"y\")\n",
    "parameter_list = np.zeros(8)\n",
    "\n",
    "ancilla_ansatz.bind_parameters(np.zeros(4))\n",
    "rho_tom = StateTomography(ancilla_ansatz.build())"
   ]
  },
  {
   "cell_type": "code",
   "execution_count": null,
   "id": "972af292",
   "metadata": {},
   "outputs": [],
   "source": [
    "data = rho_tom.run(simulator_backend).block_for_results()"
   ]
  },
  {
   "cell_type": "code",
   "execution_count": null,
   "id": "829e081f",
   "metadata": {},
   "outputs": [],
   "source": [
    "from qiskit.visualization import array_to_latex\n",
    "\n",
    "state_result = data.analysis_results(\"state\")\n",
    "fid = data.analysis_results(\"state_fidelity\")\n",
    "array_to_latex(state_result.value)"
   ]
  },
  {
   "cell_type": "code",
   "execution_count": null,
   "id": "2d27577b",
   "metadata": {},
   "outputs": [],
   "source": [
    "state_result.value"
   ]
  },
  {
   "cell_type": "code",
   "execution_count": null,
   "id": "ae37a0cc",
   "metadata": {},
   "outputs": [],
   "source": [
    "print(fid)\n",
    "print(state_fidelity(rho, state_result.value))\n",
    "print(\"\")\n",
    "print(data.analysis_results()[0])\n",
    "#rho.draw(\"latex\")"
   ]
  },
  {
   "cell_type": "code",
   "execution_count": null,
   "id": "fb6e0f07",
   "metadata": {},
   "outputs": [],
   "source": [
    "result = minimize(cost, parameter_list, args=(ancilla_ansatz, system_ansatz, H.get_pauli(), beta), method=\"COBYLA\")\n",
    "result"
   ]
  },
  {
   "cell_type": "code",
   "execution_count": null,
   "id": "f527e159",
   "metadata": {},
   "outputs": [],
   "source": [
    "def compose_total_qc(parameter_list, ancilla_ansatz, system_ansatz):\n",
    "    ancilla_parameter = []\n",
    "    system_parameter = []\n",
    "    for index in range(int(len(parameter_list)/2)):\n",
    "        ancilla_parameter.append(parameter_list[index])\n",
    "        system_parameter.append(parameter_list[index + int(len(parameter_list)/2)])\n",
    "        \n",
    "    ancilla_ansatz.bind_parameters(ancilla_parameter)\n",
    "    system_ansatz.bind_parameters(system_parameter)\n",
    "    ancilla_qc = ancilla_ansatz.build()\n",
    "    system_qc = system_ansatz.build()\n",
    "    \n",
    "    \n",
    "    N_ancilla = ancilla_qc.num_qubits\n",
    "    N_system = system_qc.num_qubits\n",
    "    total_qc = QuantumCircuit(N_ancilla + N_system)\n",
    "    total_qc.append(ancilla_qc, range(0, N_ancilla))\n",
    "    for qbit in range(0, N_system):\n",
    "        total_qc.cx(qbit, qbit+N_system)\n",
    "    total_qc.append(system_qc, range(N_ancilla, N_ancilla + N_system))\n",
    "    print(total_qc.decompose().draw())\n",
    "    \n",
    "    final_rho = DensityMatrix(total_qc)\n",
    "    \n",
    "    return final_rho"
   ]
  },
  {
   "cell_type": "code",
   "execution_count": null,
   "id": "1d0f64e1",
   "metadata": {},
   "outputs": [],
   "source": [
    "ancilla_ansatz = two_local(num_qubits=2, num_reps=1, entanglement=\"all\")\n",
    "ancilla_ansatz.build().draw()"
   ]
  },
  {
   "cell_type": "code",
   "execution_count": null,
   "id": "e4cefa51",
   "metadata": {},
   "outputs": [],
   "source": [
    "N = 2\n",
    "gy = 0.2\n",
    "B = 0.8\n",
    "H = LMG_hamiltonian(N, gy, B)\n",
    "\n",
    "x = np.linspace(0.2, 0.5, 4)\n",
    "x2 = np.linspace(0.2, 0.5, 100)\n",
    "y1 = []\n",
    "y2 = []\n",
    "for beta in x:\n",
    "    parameter_list = np.zeros(8)\n",
    "\n",
    "    ancilla_ansatz = two_local(num_qubits=N, num_reps=1, entanglement=\"linear\")\n",
    "    system_ansatz = two_local(num_qubits=N, num_reps=1, par_name=\"y\", entanglement=\"linear\")\n",
    "\n",
    "    result = minimize(cost, parameter_list, args=(ancilla_ansatz, system_ansatz, H.get_pauli(), beta), method=\"COBYLA\")\n",
    "    \n",
    "    CONS = compose_total_qc(result.x, ancilla_ansatz, system_ansatz).expectation_value(H.get_pauli(), [2,3])\n",
    "    print(CONS)\n",
    "    print(H.thermal_average(H.get_pauli(), beta))\n",
    "    print(result)\n",
    "    y1.append(CONS)\n",
    "    \n",
    "for beta in x2:\n",
    "    y2.append(H.thermal_average(H.get_pauli(), beta))\n",
    "\n",
    "import matplotlib.pyplot as plt\n",
    "\n",
    "plt.scatter(x,\n",
    "    y1,\n",
    "    color=\"black\",\n",
    "    ls=\"dotted\",\n",
    "    label=\"Qiskit\")\n",
    "plt.plot(x2,\n",
    "    y2,\n",
    "    color=\"red\",\n",
    "    ls=\"dotted\",\n",
    "    label=\"Numpy\")\n",
    "plt.show()"
   ]
  },
  {
   "cell_type": "code",
   "execution_count": null,
   "id": "0a2e1f18",
   "metadata": {},
   "outputs": [],
   "source": [
    "H.get_thermal_state(beta)"
   ]
  },
  {
   "cell_type": "code",
   "execution_count": null,
   "id": "762267e3",
   "metadata": {},
   "outputs": [],
   "source": [
    "rho = compose_total_qc(result.x, ancilla_ansatz, system_ansatz)\n",
    "state_fidelity(partial_trace(rho, range(N)), H.get_thermal_state(beta))"
   ]
  },
  {
   "cell_type": "code",
   "execution_count": null,
   "id": "31afafac",
   "metadata": {},
   "outputs": [],
   "source": [
    "x = np.linspace(0.8, 3.0, 3)\n",
    "x2 = np.linspace(0.2, 5.0, 100)\n",
    "\n",
    "\n",
    "N = 5\n",
    "gy = 0.4\n",
    "B = 0.9\n",
    "H = LMG_hamiltonian(N, gy, B)\n",
    "ground_state_energy = []\n",
    "num_th_averages = []\n",
    "for beta in x2:\n",
    "    ground_state_energy.append(H.get_ground_state()[0])\n",
    "\n",
    "plt.rcParams[\"figure.figsize\"] = [7.50, 5.50]\n",
    "plt.rcParams[\"figure.autolayout\"] = True\n",
    "\n",
    "gylabel = \"$\\gamma$ = {gy:.1f}, B = {B:.1f} - ground state energy\"\n",
    "\n",
    "plt.title(\"Energy thermal averages for N = {N:.0f} spins - Consiglio\".format(N=N))\n",
    "\n",
    "plt.plot(\n",
    "    x2,\n",
    "    ground_state_energy,\n",
    "    color=\"black\",\n",
    "    ls=\"dotted\",\n",
    "    label=gylabel.format(gy=gy, B=B),\n",
    ")\n",
    "plt.plot(x2, y2, color=\"blue\", label=\"numerical average\")\n",
    "plt.scatter(\n",
    "    x,\n",
    "    y1,\n",
    "    color=\"red\",\n",
    "    label=\"Consiglio average v1.0\",\n",
    ")\n",
    "\n",
    "plt.ylabel(\"Thermal averages\")\n",
    "plt.xlabel(\"beta\")\n",
    "\n",
    "# Line of codes to avoid repeating labels in legend\n",
    "handles, labels = plt.gca().get_legend_handles_labels()\n",
    "by_label = dict(zip(labels, handles))\n",
    "plt.legend(by_label.values(), by_label.keys())\n",
    "\n",
    "plt.grid()\n",
    "plt.show()"
   ]
  },
  {
   "cell_type": "code",
   "execution_count": null,
   "id": "240128e1",
   "metadata": {},
   "outputs": [],
   "source": [
    "def cost_function(ancilla_qc, system_qc, observable, beta, sampler=Sampler(), shots = 4096):\n",
    "    N_ancilla = ancilla_qc.num_qubits\n",
    "    N_system = system_qc.num_qubits\n",
    "    LMG = LMG_hamiltonian(N_system, 0.0, 1.0)\n",
    "    eigen = LMG.diagonalize(observable)\n",
    "    eigenvalues = eigen[0]\n",
    "    U = np.matrix(eigen[1]).getH()\n",
    "    \n",
    "    total_qc = QuantumCircuit(N_ancilla + N_system)\n",
    "    total_qc.append(ancilla_qc, range(0, N_ancilla))\n",
    "    for qbit in range(0, N_system):\n",
    "        total_qc.cx(qbit, qbit+N_system)\n",
    "    total_qc.append(system_qc, range(N_ancilla, N_ancilla + N_system))\n",
    "    total_qc.unitary(U, range(N_ancilla, N_ancilla + N_system))\n",
    "    total_qc.measure_all()\n",
    "    job = sampler.run(total_qc, shots=shots)\n",
    "    prob_dict = job.result().quasi_dists[0]\n",
    "    print(ancilla_qc.draw())\n",
    "    print(system_qc.draw())\n",
    "    print(total_qc.decompose().draw())\n",
    "    print(prob_dict)\n",
    "    print(eigenvalues)\n",
    "    exp_value = 0.0\n",
    "    entropy = 0.0\n",
    "    for key in job.result().quasi_dists[0].keys():\n",
    "        if(key >= 2**N_ancilla):\n",
    "            exp_value += eigenvalues[key-2**N_ancilla]*prob_dict[key]\n",
    "        else:\n",
    "            entropy -= prob_dict[key]*np.log(prob_dict[key])\n",
    "    return beta*exp_value - entropy\n",
    "\n",
    "N = 1\n",
    "ansatz = two_local(num_qubits=N, num_reps=1)\n",
    "ansatz.bind_parameters(np.zeros(ansatz.get_num_parameters()))\n",
    "qc = QuantumCircuit(1)\n",
    "qc.h(0)\n",
    "new_qc = ansatz.build()\n",
    "H = SparsePauliOp([\"X\", \"Y\", \"Z\"], coeffs=[1.0, -0.5, 0.3])\n",
    "cost_function(ancilla_qc = qc, system_qc = new_qc, observable = H, beta = 0.5, shots = 20000000000)"
   ]
  },
  {
   "cell_type": "code",
   "execution_count": null,
   "id": "9afc48f9",
   "metadata": {},
   "outputs": [],
   "source": [
    "def cost_function(parameter_list, H, N):\n",
    "    ansatz = two_local(num_qubits=N, num_reps=1)\n",
    "    ansatz.bind_parameters(parameter_list)\n",
    "    circuit = ansatz.build()\n",
    "    \n",
    "    return state_label.exp_value(circuit, H)\n",
    "\n",
    "parameter_list = np.array([0.0, 0.0])\n",
    "result = minimize(cost_function, parameter_list, args=(H, N), method=\"SLSQP\")\n",
    "\n",
    "ansatz.bind_parameters(result.x)\n",
    "Statevector([1.0, 0.0]).evolve(ansatz.build())"
   ]
  },
  {
   "cell_type": "code",
   "execution_count": null,
   "id": "ecdfc7d6",
   "metadata": {},
   "outputs": [],
   "source": [
    "def cost_func(coeffs_list, pauli_list, H, tau, initial_state):\n",
    "    A = SparsePauliOp(pauli_list, coeffs_list).to_matrix()\n",
    "    U = scipy.linalg.expm(-1j*A*tau)\n",
    "    C = U - np.eye(2**N) + 1j*A\n",
    "\n",
    "    phi = np.matmul(C, initial_state)\n",
    "    \n",
    "    return np.linalg.norm(phi)\n",
    "\n",
    "def get_pauli_list(N):\n",
    "    basis = [\"I\", \"X\", \"Y\", \"Z\"]\n",
    "    pauli_list = []\n",
    "    for i in range(len(basis)):\n",
    "        for j in range(len(basis)):\n",
    "            pauli_list.append(basis[i]+basis[j])\n",
    "            \n",
    "    return pauli_list"
   ]
  },
  {
   "cell_type": "code",
   "execution_count": null,
   "id": "337d6d9b",
   "metadata": {},
   "outputs": [],
   "source": [
    "# SciPy minimizer routine\n",
    "N = 2\n",
    "pauli_list = get_pauli_list(N)\n",
    "coeffs_list = np.ones(4**N)\n",
    "tau = 0.01\n",
    "initial_state = np.array([0.5, 0.5, 0.5, 0.5])\n",
    "H = SparsePauliOp([\"IX\"], coeffs=[1.0]).to_matrix()\n",
    "\n",
    "result = minimize(cost_func, coeffs_list, args=(pauli_list, H, tau, initial_state), method=\"SLSQP\")\n",
    "\n",
    "result"
   ]
  },
  {
   "cell_type": "code",
   "execution_count": null,
   "id": "67607c5e",
   "metadata": {},
   "outputs": [],
   "source": [
    "from library import plotting\n",
    "from library.ansatz_creation import two_local\n",
    "from library.operator_creation import LMG_hamiltonian\n",
    "from library.QMETTS import QMETTS_instance\n",
    "\n",
    "\n",
    "N = 2\n",
    "gy = 0.5\n",
    "B = 0.2\n",
    "final_beta = 0.8\n",
    "num_beta_points = 3\n",
    "shots = 1024\n",
    "initial_state = \"++\"\n",
    "H = LMG_hamiltonian(N, gy, B)\n",
    "operators = [\"xx\", \"zz\"]\n",
    "flag = \"manual\"\n",
    "ansatz = two_local(num_qubits=N, num_reps=2)\n",
    "qmetts_instance = QMETTS_instance(\n",
    "    H, operators, flag, final_beta, num_beta_points, shots, initial_state, ansatz,\n",
    ")\n",
    "print(qmetts_instance.get_basis_list())\n",
    "print(qmetts_instance.get_basis_measure_list())\n",
    "QMETTS_result = qmetts_instance.multi_beta_qmetts(\n",
    "    op=H.get_pauli(), initial_state=initial_state, shots=shots\n",
    ")\n",
    "plotting.plot_thermal_average(QMETTS_result)\n",
    "plotting.plot_state_histogram(QMETTS_result)\n",
    "# plotting.plot_qite(QMETTS_result)"
   ]
  },
  {
   "cell_type": "code",
   "execution_count": null,
   "id": "c18e8937",
   "metadata": {},
   "outputs": [],
   "source": [
    "new_prep_list = {}\n",
    "\n",
    "for label_key in QMETTS_result.preparation_result.keys():\n",
    "#    print(label_key)\n",
    "    new_data_list = {}\n",
    "    for data_key in QMETTS_result.preparation_result[label_key].keys():\n",
    "#        print(data_key)\n",
    "        if data_key != \"circuit_list\":\n",
    "            new_data_list[data_key] = QMETTS_result.preparation_result[label_key][data_key]\n",
    "    new_prep_list[label_key] = new_data_list\n",
    "# new_prep_list"
   ]
  },
  {
   "cell_type": "code",
   "execution_count": null,
   "id": "0a63bba9",
   "metadata": {},
   "outputs": [],
   "source": [
    "import pickle\n",
    "\n",
    "with open('prova.pickle', 'wb') as f:\n",
    "    # Pickle the 'data' dictionary using the highest protocol available.\n",
    "    pickle.dump(QMETTS_result.preparation_result, f, pickle.HIGHEST_PROTOCOL)"
   ]
  },
  {
   "cell_type": "code",
   "execution_count": null,
   "id": "6668043e",
   "metadata": {},
   "outputs": [],
   "source": [
    "with open('prova.pickle', 'rb') as f:\n",
    "    # Pickle the 'data' dictionary using the highest protocol available.\n",
    "    data = pickle.load(f)"
   ]
  },
  {
   "cell_type": "code",
   "execution_count": null,
   "id": "d14eb804",
   "metadata": {},
   "outputs": [],
   "source": [
    "file_name = \"preparation_result_{}at_gy{}_B{}\".format(N, gy, B)\n",
    "file_name.replace(\".\",\"\")+\".pickle\""
   ]
  },
  {
   "cell_type": "code",
   "execution_count": null,
   "id": "946525c7",
   "metadata": {},
   "outputs": [],
   "source": [
    "QMETTS_result = qmetts_istance.multi_beta_qmetts(\n",
    "    op=H.get_pauli(), initial_state=initial_state, shots=shots\n",
    ")"
   ]
  },
  {
   "cell_type": "code",
   "execution_count": null,
   "id": "b71c6e34",
   "metadata": {},
   "outputs": [],
   "source": [
    "# def get_total_state_list\n",
    "total_state_list = []\n",
    "for beta_index in range(len(QMETTS_result.multi_beta_qmetts_result)):\n",
    "    total_state_list.append(\n",
    "        QMETTS_result.multi_beta_qmetts_result[beta_index][\"state_list\"]\n",
    "    )\n",
    "print(total_state_list)"
   ]
  },
  {
   "cell_type": "code",
   "execution_count": null,
   "id": "95d1388d",
   "metadata": {},
   "outputs": [],
   "source": [
    "beta_list = []\n",
    "for beta_index in range(len(QMETTS_result.multi_beta_qmetts_result)):\n",
    "    beta_list.append(\n",
    "        QMETTS_result.multi_beta_qmetts_result[beta_index][\"beta\"]\n",
    "    )\n",
    "print(beta_list)"
   ]
  },
  {
   "cell_type": "code",
   "execution_count": null,
   "id": "c58670cf",
   "metadata": {},
   "outputs": [],
   "source": [
    "QITE_th_averages = []\n",
    "for beta_index in range(len(QMETTS_result.multi_beta_qmetts_result)):\n",
    "    QITE_th_averages.append(\n",
    "        QMETTS_result.multi_beta_qmetts_result[beta_index][\"th_average\"]\n",
    "    )\n",
    "print(QITE_th_averages)"
   ]
  },
  {
   "cell_type": "code",
   "execution_count": null,
   "id": "81ba6117",
   "metadata": {},
   "outputs": [],
   "source": [
    "import matplotlib.pyplot as plt\n",
    "import numpy as np\n",
    "\n",
    "\n",
    "\n",
    "betas = np.linspace(0., 5.0, 100)\n",
    "\n",
    "ground_state_energy = []\n",
    "num_th_averages = []\n",
    "for temp_beta in betas:\n",
    "    ground_state_energy.append(H.get_ground_state()[0])\n",
    "    num_th_averages.append(LMG_hamiltonian.thermal_average(H, op=H.get_matrix(), beta=temp_beta))\n",
    "    \n",
    "plt.rcParams[\"figure.figsize\"] = [7.50, 5.50]\n",
    "plt.rcParams[\"figure.autolayout\"] = True\n",
    "\n",
    "    \n",
    "gylabel = \"$\\gamma$ = {gy:.1f}, B = {B:.1f} - ground state energy\"\n",
    "\n",
    "plt.title(\"Energy thermal averages\")\n",
    "\n",
    "\n",
    "plt.plot(betas, ground_state_energy, color=\"black\", ls=\"dotted\", label=gylabel.format(gy=gy,B=B))\n",
    "plt.plot(betas, num_th_averages, color=\"blue\", label = \"numerical average\")\n",
    "plt.scatter(np.array(beta_list), QITE_th_averages, color=\"red\", label = \"QMETTS average\")\n",
    "#plt.scatter(FINAL_BETA_LIST, FINAL_THERMAL_AVERAGES, color=\"red\", label = \"QMETTS average\")\n",
    "\n",
    "\n",
    "plt.ylabel('Thermal averages')\n",
    "plt.xlabel('beta')\n",
    "\n",
    "\n",
    "# Line of codes to avoid repeating labels in legend\n",
    "handles, labels = plt.gca().get_legend_handles_labels()\n",
    "by_label = dict(zip(labels, handles))\n",
    "plt.legend(by_label.values(), by_label.keys())\n",
    "\n",
    "plt.grid()\n",
    "plt.show()"
   ]
  },
  {
   "cell_type": "code",
   "execution_count": null,
   "id": "afaa16a5",
   "metadata": {},
   "outputs": [],
   "source": [
    "N = 2\n",
    "gy = 0.2\n",
    "B = 0.8\n",
    "beta = 1.0\n",
    "num_beta_points = 10\n",
    "shots = 1024\n",
    "initial_state = \"10\"\n",
    "H1 = LMG_hamiltonian(N, gy, B)\n",
    "basis_list = [\n",
    "    \"++\",\n",
    "    \"+-\",\n",
    "    \"-+\",\n",
    "    \"--\",\n",
    "    \"00\",\n",
    "    \"01\",\n",
    "    \"10\",\n",
    "    \"11\",\n",
    "    \"+0\",\n",
    "    \"+1\",\n",
    "    \"-0\",\n",
    "    \"-1\",\n",
    "    \"0+\",\n",
    "    \"0-\",\n",
    "    \"1+\",\n",
    "    \"1-\",\n",
    "]\n",
    "ansatz = two_local(num_qubits=N)\n",
    "qmetts_istance1 = QMETTS_istance(\n",
    "    H, basis_list, beta, num_beta_points, shots, initial_state, ansatz\n",
    ")"
   ]
  },
  {
   "cell_type": "code",
   "execution_count": null,
   "id": "27199d26",
   "metadata": {},
   "outputs": [],
   "source": [
    "QMETTS_result1 = qmetts_istance1.multi_beta_qmetts(\n",
    "    op=H1.get_pauli(), initial_state=initial_state, shots=shots\n",
    ")"
   ]
  },
  {
   "cell_type": "code",
   "execution_count": null,
   "id": "dcd3cd5a",
   "metadata": {},
   "outputs": [],
   "source": [
    "QITE_th_averages1 = []\n",
    "for beta_index in range(len(QMETTS_result1.multi_beta_qmetts_result)):\n",
    "    QITE_th_averages1.append(\n",
    "        QMETTS_result.multi_beta_qmetts_result[beta_index][\"th_average\"]\n",
    "    )\n",
    "print(QITE_th_averages1)"
   ]
  },
  {
   "cell_type": "code",
   "execution_count": null,
   "id": "a3fc2601",
   "metadata": {},
   "outputs": [],
   "source": [
    "beta_list1 = []\n",
    "for beta_index in range(len(QMETTS_result1.multi_beta_qmetts_result)):\n",
    "    beta_list1.append(\n",
    "        QMETTS_result1.multi_beta_qmetts_result[beta_index][\"beta\"]\n",
    "    )\n",
    "print(beta_list1)"
   ]
  },
  {
   "cell_type": "code",
   "execution_count": null,
   "id": "9b6ed2f2",
   "metadata": {},
   "outputs": [],
   "source": [
    "import matplotlib.pyplot as plt\n",
    "import numpy as np\n",
    "\n",
    "\n",
    "\n",
    "betas = np.linspace(0., beta, 100)\n",
    "\n",
    "ground_state_energy = []\n",
    "num_th_averages = []\n",
    "for temp_beta in betas:\n",
    "    ground_state_energy.append(H1.get_ground_state()[0])\n",
    "    num_th_averages.append(LMG_hamiltonian.thermal_average(H1, op=H1.get_matrix(), beta=temp_beta))\n",
    "    \n",
    "plt.rcParams[\"figure.figsize\"] = [7.50, 5.50]\n",
    "plt.rcParams[\"figure.autolayout\"] = True\n",
    "\n",
    "    \n",
    "gylabel = \"$\\gamma$ = {gy:.1f}, B = {B:.1f} - ground state energy\"\n",
    "\n",
    "plt.title(\"Energy thermal averages\")\n",
    "\n",
    "\n",
    "plt.plot(betas, ground_state_energy, color=\"black\", ls=\"dotted\", label=gylabel.format(gy=gy,B=B))\n",
    "plt.plot(betas, num_th_averages, color=\"blue\", label = \"numerical average\")\n",
    "plt.scatter(np.array(beta_list1), QITE_th_averages1, color=\"red\", label = \"QMETTS average\")\n",
    "#plt.scatter(FINAL_BETA_LIST, FINAL_THERMAL_AVERAGES, color=\"red\", label = \"QMETTS average\")\n",
    "\n",
    "\n",
    "plt.ylabel('Thermal averages')\n",
    "plt.xlabel('beta')\n",
    "\n",
    "\n",
    "# Line of codes to avoid repeating labels in legend\n",
    "handles, labels = plt.gca().get_legend_handles_labels()\n",
    "by_label = dict(zip(labels, handles))\n",
    "plt.legend(by_label.values(), by_label.keys())\n",
    "\n",
    "plt.grid()\n",
    "plt.show()"
   ]
  },
  {
   "cell_type": "code",
   "execution_count": null,
   "id": "3508232d",
   "metadata": {},
   "outputs": [],
   "source": []
  }
 ],
 "metadata": {
  "kernelspec": {
   "display_name": "Python [conda env:qiskit_env]",
   "language": "python",
   "name": "conda-env-qiskit_env-py"
  },
  "language_info": {
   "codemirror_mode": {
    "name": "ipython",
    "version": 3
   },
   "file_extension": ".py",
   "mimetype": "text/x-python",
   "name": "python",
   "nbconvert_exporter": "python",
   "pygments_lexer": "ipython3",
   "version": "3.11.4"
  }
 },
 "nbformat": 4,
 "nbformat_minor": 5
}
